{
  "nbformat": 4,
  "nbformat_minor": 0,
  "metadata": {
    "colab": {
      "name": "MEDM_bee.ipynb",
      "provenance": [],
      "collapsed_sections": [
        "xllOgNWbOs05",
        "zPQnCMuM6nER",
        "pRCxlAGx6_WG"
      ],
      "toc_visible": true,
      "include_colab_link": true
    },
    "kernelspec": {
      "name": "python3",
      "display_name": "Python 3"
    }
  },
  "cells": [
    {
      "cell_type": "markdown",
      "metadata": {
        "id": "view-in-github",
        "colab_type": "text"
      },
      "source": [
        "<a href=\"https://colab.research.google.com/github/moliva123/medm_bee/blob/master/MEDM_bee.ipynb\" target=\"_parent\"><img src=\"https://colab.research.google.com/assets/colab-badge.svg\" alt=\"Open In Colab\"/></a>"
      ]
    },
    {
      "cell_type": "markdown",
      "metadata": {
        "id": "iyUPKO1N7Fz7",
        "colab_type": "text"
      },
      "source": [
        "# Importing libraries"
      ]
    },
    {
      "cell_type": "code",
      "metadata": {
        "id": "LfSCUrXubE75",
        "colab_type": "code",
        "colab": {
          "base_uri": "https://localhost:8080/",
          "height": 72
        },
        "outputId": "90c2918f-01da-48e3-8b1c-e2cf40899986"
      },
      "source": [
        "!git clone https://github.com/moliva123/medm_bee.git\n",
        "%cd medm_bee/\n",
        "\n",
        "import pandas as pd \n",
        "import numpy as np\n",
        "import seaborn as sns\n",
        "sns.set(color_codes=True)\n",
        "import matplotlib.pyplot as plt\n",
        "from matplotlib import rcParams\n",
        "\n",
        "import itertools\n",
        "import operator\n",
        "import scipy.stats as ss\n",
        "\n",
        "from sklearn.model_selection import train_test_split, GridSearchCV\n",
        "from sklearn.feature_selection import mutual_info_classif\n",
        "from sklearn.preprocessing import StandardScaler\n",
        "from sklearn.preprocessing import LabelEncoder\n",
        "\n",
        "from sklearn.metrics import roc_curve\n",
        "from sklearn.metrics import roc_auc_score\n",
        "from sklearn.model_selection import cross_val_predict, cross_val_score\n",
        "from sklearn.metrics import confusion_matrix,classification_report,accuracy_score,balanced_accuracy_score\n",
        "\n",
        "\n",
        "from sklearn.tree import DecisionTreeClassifier\n",
        "from sklearn.naive_bayes import MultinomialNB\n",
        "from sklearn.neighbors import KNeighborsClassifier\n",
        "from sklearn.linear_model import LogisticRegression\n",
        "from sklearn.svm import SVC\n",
        "from sklearn.ensemble import RandomForestClassifier\n",
        "from sklearn.neural_network import MLPClassifier\n",
        "\n",
        "#functions used\n",
        "def cramers_v(x, y):\n",
        "    confusion_matrix = pd.crosstab(x,y)\n",
        "    chi2 = ss.chi2_contingency(confusion_matrix)[0]\n",
        "    n = confusion_matrix.sum().sum()\n",
        "    phi2 = chi2/n\n",
        "    r,k = confusion_matrix.shape\n",
        "    phi2corr = max(0, phi2-((k-1)*(r-1))/(n-1))\n",
        "    rcorr = r-((r-1)**2)/(n-1)\n",
        "    kcorr = k-((k-1)**2)/(n-1)\n",
        "    return np.sqrt(phi2corr/min((kcorr-1),(rcorr-1)))\n",
        "\n",
        "\n",
        "def specificity(clf,cm):\n",
        "  #cm is the confusion matrix\n",
        "  FP = cm.sum(axis=0) - np.diag(cm)  #vector with nr of false positives of each label\n",
        "  FN = cm.sum(axis=1) - np.diag(cm) #vector with nr of false negatives of each label\n",
        "  TP = np.diag(cm) #vector with nr of true positives of each label\n",
        "  TN = cm.sum() - (FP + FN + TP) #vector with nr of true negatives of each label\n",
        "\n",
        "  FP = FP.astype(float)\n",
        "  TN = TN.astype(float)\n",
        "  \n",
        "  sp = TN/(TN+FP) #vector with specificity of each label\n",
        "  sp_mean = np.mean(sp)\n",
        "  labels=clf.classes_\n",
        "  res = \"\\n\".join(\"{:>25} \"     \" {}\".format(x, y) for x, y in zip(labels, sp))\n",
        "  print(res)\n",
        "  print('\\nmacro avg:', sp_mean)\n",
        "\n",
        "def print_score(classifier,X_test,y_test):\n",
        "  print(\"Test results:\\n\")\n",
        "  print('Accuracy Score: {0:.4f}\\n'.format(accuracy_score(y_test,classifier.predict(X_test))))\n",
        "  print('Balanced Accuracy Score: {0:.4f}\\n'.format(balanced_accuracy_score(y_test,classifier.predict(X_test))))\n",
        "  print('Classification Report:\\n{}\\n'.format(classification_report(y_test,classifier.predict(X_test))))\n",
        "  print('Confusion Matrix:\\n{}\\n'.format(confusion_matrix(y_test,classifier.predict(X_test))))\n",
        "  print(\"Specificity:\\n\") \n",
        "  print(specificity(classifier,confusion_matrix(y_test,classifier.predict(X_test))))\n",
        "\n",
        "def calculate_auc(classifier, X_test, y_test):\n",
        "  y_pred = classifier.predict(X_test)\n",
        "  y_prob = classifier.predict_proba(X_test)\n",
        "\n",
        "  macro_roc_auc_ovo = roc_auc_score(y_test, y_prob, multi_class=\"ovo\",\n",
        "                                    average=\"macro\")\n",
        "  weighted_roc_auc_ovo = roc_auc_score(y_test, y_prob, multi_class=\"ovo\",\n",
        "                                      average=\"weighted\")\n",
        "  macro_roc_auc_ovr = roc_auc_score(y_test, y_prob, multi_class=\"ovr\",\n",
        "                                    average=\"macro\")\n",
        "  weighted_roc_auc_ovr = roc_auc_score(y_test, y_prob, multi_class=\"ovr\",\n",
        "                                      average=\"weighted\")\n",
        "  print(\"One-vs-One ROC AUC scores:\\n{:.6f} (macro),\\n{:.6f} \"\n",
        "        \"(weighted by prevalence)\"\n",
        "        .format(macro_roc_auc_ovo, weighted_roc_auc_ovo))\n",
        "  print(\"One-vs-Rest ROC AUC scores:\\n{:.6f} (macro),\\n{:.6f} \"\n",
        "        \"(weighted by prevalence)\"\n",
        "        .format(macro_roc_auc_ovr, weighted_roc_auc_ovr))"
      ],
      "execution_count": 3,
      "outputs": [
        {
          "output_type": "stream",
          "text": [
            "/usr/local/lib/python3.6/dist-packages/statsmodels/tools/_testing.py:19: FutureWarning: pandas.util.testing is deprecated. Use the functions in the public API at pandas.testing instead.\n",
            "  import pandas.util.testing as tm\n"
          ],
          "name": "stderr"
        }
      ]
    },
    {
      "cell_type": "markdown",
      "metadata": {
        "id": "uwyTdzAP7Nox",
        "colab_type": "text"
      },
      "source": [
        "# Pre Processing"
      ]
    },
    {
      "cell_type": "code",
      "metadata": {
        "id": "zEtCNehCav0g",
        "colab_type": "code",
        "outputId": "96ec2bfe-e707-4ff5-e2fd-341cbc0d0cc3",
        "colab": {
          "base_uri": "https://localhost:8080/",
          "height": 301
        }
      },
      "source": [
        "data = pd.read_csv(\"bee_data.csv\")\n",
        "data.info()"
      ],
      "execution_count": 4,
      "outputs": [
        {
          "output_type": "stream",
          "text": [
            "<class 'pandas.core.frame.DataFrame'>\n",
            "RangeIndex: 5172 entries, 0 to 5171\n",
            "Data columns (total 9 columns):\n",
            " #   Column           Non-Null Count  Dtype \n",
            "---  ------           --------------  ----- \n",
            " 0   file             5172 non-null   object\n",
            " 1   date             5172 non-null   object\n",
            " 2   time             5172 non-null   object\n",
            " 3   location         5172 non-null   object\n",
            " 4   zip code         5172 non-null   int64 \n",
            " 5   subspecies       5172 non-null   object\n",
            " 6   health           5172 non-null   object\n",
            " 7   pollen_carrying  5172 non-null   bool  \n",
            " 8   caste            5172 non-null   object\n",
            "dtypes: bool(1), int64(1), object(7)\n",
            "memory usage: 328.4+ KB\n"
          ],
          "name": "stdout"
        }
      ]
    },
    {
      "cell_type": "code",
      "metadata": {
        "id": "G3pqQd2rbCYo",
        "colab_type": "code",
        "outputId": "cad79e3e-7783-471d-e90b-6b5af5bd9659",
        "colab": {
          "base_uri": "https://localhost:8080/",
          "height": 106
        }
      },
      "source": [
        "data.subspecies.describe()"
      ],
      "execution_count": 5,
      "outputs": [
        {
          "output_type": "execute_result",
          "data": {
            "text/plain": [
              "count                  5172\n",
              "unique                    7\n",
              "top       Italian honey bee\n",
              "freq                   3008\n",
              "Name: subspecies, dtype: object"
            ]
          },
          "metadata": {
            "tags": []
          },
          "execution_count": 5
        }
      ]
    },
    {
      "cell_type": "code",
      "metadata": {
        "id": "SaZgPN86bLOj",
        "colab_type": "code",
        "outputId": "c047555b-b077-4d4e-9c03-08f5f5535248",
        "colab": {
          "base_uri": "https://localhost:8080/",
          "height": 200
        }
      },
      "source": [
        "data.head()"
      ],
      "execution_count": 6,
      "outputs": [
        {
          "output_type": "execute_result",
          "data": {
            "text/html": [
              "<div>\n",
              "<style scoped>\n",
              "    .dataframe tbody tr th:only-of-type {\n",
              "        vertical-align: middle;\n",
              "    }\n",
              "\n",
              "    .dataframe tbody tr th {\n",
              "        vertical-align: top;\n",
              "    }\n",
              "\n",
              "    .dataframe thead th {\n",
              "        text-align: right;\n",
              "    }\n",
              "</style>\n",
              "<table border=\"1\" class=\"dataframe\">\n",
              "  <thead>\n",
              "    <tr style=\"text-align: right;\">\n",
              "      <th></th>\n",
              "      <th>file</th>\n",
              "      <th>date</th>\n",
              "      <th>time</th>\n",
              "      <th>location</th>\n",
              "      <th>zip code</th>\n",
              "      <th>subspecies</th>\n",
              "      <th>health</th>\n",
              "      <th>pollen_carrying</th>\n",
              "      <th>caste</th>\n",
              "    </tr>\n",
              "  </thead>\n",
              "  <tbody>\n",
              "    <tr>\n",
              "      <th>0</th>\n",
              "      <td>041_066.png</td>\n",
              "      <td>8/28/18</td>\n",
              "      <td>16:07</td>\n",
              "      <td>Alvin, TX, USA</td>\n",
              "      <td>77511</td>\n",
              "      <td>-1</td>\n",
              "      <td>hive being robbed</td>\n",
              "      <td>False</td>\n",
              "      <td>worker</td>\n",
              "    </tr>\n",
              "    <tr>\n",
              "      <th>1</th>\n",
              "      <td>041_072.png</td>\n",
              "      <td>8/28/18</td>\n",
              "      <td>16:07</td>\n",
              "      <td>Alvin, TX, USA</td>\n",
              "      <td>77511</td>\n",
              "      <td>-1</td>\n",
              "      <td>hive being robbed</td>\n",
              "      <td>False</td>\n",
              "      <td>worker</td>\n",
              "    </tr>\n",
              "    <tr>\n",
              "      <th>2</th>\n",
              "      <td>041_073.png</td>\n",
              "      <td>8/28/18</td>\n",
              "      <td>16:07</td>\n",
              "      <td>Alvin, TX, USA</td>\n",
              "      <td>77511</td>\n",
              "      <td>-1</td>\n",
              "      <td>hive being robbed</td>\n",
              "      <td>False</td>\n",
              "      <td>worker</td>\n",
              "    </tr>\n",
              "    <tr>\n",
              "      <th>3</th>\n",
              "      <td>041_067.png</td>\n",
              "      <td>8/28/18</td>\n",
              "      <td>16:07</td>\n",
              "      <td>Alvin, TX, USA</td>\n",
              "      <td>77511</td>\n",
              "      <td>-1</td>\n",
              "      <td>hive being robbed</td>\n",
              "      <td>False</td>\n",
              "      <td>worker</td>\n",
              "    </tr>\n",
              "    <tr>\n",
              "      <th>4</th>\n",
              "      <td>041_059.png</td>\n",
              "      <td>8/28/18</td>\n",
              "      <td>16:07</td>\n",
              "      <td>Alvin, TX, USA</td>\n",
              "      <td>77511</td>\n",
              "      <td>-1</td>\n",
              "      <td>hive being robbed</td>\n",
              "      <td>False</td>\n",
              "      <td>worker</td>\n",
              "    </tr>\n",
              "  </tbody>\n",
              "</table>\n",
              "</div>"
            ],
            "text/plain": [
              "          file     date   time  ...             health  pollen_carrying   caste\n",
              "0  041_066.png  8/28/18  16:07  ...  hive being robbed            False  worker\n",
              "1  041_072.png  8/28/18  16:07  ...  hive being robbed            False  worker\n",
              "2  041_073.png  8/28/18  16:07  ...  hive being robbed            False  worker\n",
              "3  041_067.png  8/28/18  16:07  ...  hive being robbed            False  worker\n",
              "4  041_059.png  8/28/18  16:07  ...  hive being robbed            False  worker\n",
              "\n",
              "[5 rows x 9 columns]"
            ]
          },
          "metadata": {
            "tags": []
          },
          "execution_count": 6
        }
      ]
    },
    {
      "cell_type": "markdown",
      "metadata": {
        "id": "AY2KKFpQmAIH",
        "colab_type": "text"
      },
      "source": [
        "## Plots"
      ]
    },
    {
      "cell_type": "code",
      "metadata": {
        "id": "RZf8T3QvOdmb",
        "colab_type": "code",
        "colab": {}
      },
      "source": [
        "#remove all rows where subespecie is -1\n",
        "data = data[data['subspecies'] != '-1']\n",
        "#delete column caste because all values are \"worker\"\n",
        "del data['caste']"
      ],
      "execution_count": 0,
      "outputs": []
    },
    {
      "cell_type": "code",
      "metadata": {
        "id": "lxKgvw2WOq46",
        "colab_type": "code",
        "outputId": "cccc3f4a-eb14-4cf0-ec0a-c13dbdccfe8d",
        "colab": {
          "base_uri": "https://localhost:8080/",
          "height": 464
        }
      },
      "source": [
        "rcParams['figure.figsize'] = 8,6\n",
        "plt.bar(data['subspecies'].value_counts().index,data['subspecies'].value_counts(),color='gold')\n",
        "plt.xlabel('Subspecies')\n",
        "plt.ylabel('Number of Images')\n",
        "plt.title('Number of Bees per Subspecie')\n",
        "plt.xticks(rotation=20,fontsize=10)"
      ],
      "execution_count": 8,
      "outputs": [
        {
          "output_type": "execute_result",
          "data": {
            "text/plain": [
              "([0, 1, 2, 3, 4, 5], <a list of 6 Text major ticklabel objects>)"
            ]
          },
          "metadata": {
            "tags": []
          },
          "execution_count": 8
        },
        {
          "output_type": "display_data",
          "data": {
            "image/png": "[encoded data removed]",
            "text/plain": [
              "<Figure size 576x432 with 1 Axes>"
            ]
          },
          "metadata": {
            "tags": []
          }
        }
      ]
    },
    {
      "cell_type": "code",
      "metadata": {
        "id": "WSgT5ULwMqYr",
        "colab_type": "code",
        "outputId": "6d16096b-e3df-4a21-8471-fb8e4a94d993",
        "colab": {
          "base_uri": "https://localhost:8080/",
          "height": 141
        }
      },
      "source": [
        "data['subspecies'].value_counts()"
      ],
      "execution_count": 9,
      "outputs": [
        {
          "output_type": "execute_result",
          "data": {
            "text/plain": [
              "Italian honey bee        3008\n",
              "Russian honey bee         527\n",
              "Carniolan honey bee       501\n",
              "1 Mixed local stock 2     472\n",
              "VSH Italian honey bee     199\n",
              "Western honey bee          37\n",
              "Name: subspecies, dtype: int64"
            ]
          },
          "metadata": {
            "tags": []
          },
          "execution_count": 9
        }
      ]
    },
    {
      "cell_type": "code",
      "metadata": {
        "id": "wwCquGVXOux7",
        "colab_type": "code",
        "colab": {}
      },
      "source": [
        "#join Athens Georgia USA with Athens GA USA\n",
        "data = data.replace({'location':'Athens, Georgia, USA'}, 'Athens, GA, USA')"
      ],
      "execution_count": 0,
      "outputs": []
    },
    {
      "cell_type": "code",
      "metadata": {
        "id": "XDrpIDf8OzI1",
        "colab_type": "code",
        "outputId": "7d6c7043-f986-4a48-b1db-b72d171ce09e",
        "colab": {
          "base_uri": "https://localhost:8080/",
          "height": 464
        }
      },
      "source": [
        "rcParams['figure.figsize'] = 8,6\n",
        "plt.bar(data['location'].value_counts().index,data['location'].value_counts(),color='gold')\n",
        "plt.xlabel('Location')\n",
        "plt.ylabel('Number of Images')\n",
        "plt.title('Number of Bees Images per Location')\n",
        "plt.xticks(rotation=20,fontsize=10)\n"
      ],
      "execution_count": 11,
      "outputs": [
        {
          "output_type": "execute_result",
          "data": {
            "text/plain": [
              "([0, 1, 2, 3, 4, 5], <a list of 6 Text major ticklabel objects>)"
            ]
          },
          "metadata": {
            "tags": []
          },
          "execution_count": 11
        },
        {
          "output_type": "display_data",
          "data": {
            "image/png": "[encoded data removed]",
            "text/plain": [
              "<Figure size 576x432 with 1 Axes>"
            ]
          },
          "metadata": {
            "tags": []
          }
        }
      ]
    },
    {
      "cell_type": "code",
      "metadata": {
        "id": "PiDlnMYf-rKL",
        "colab_type": "code",
        "outputId": "2d26e571-8b04-41c9-95ba-ca204ccddb8b",
        "colab": {
          "base_uri": "https://localhost:8080/",
          "height": 141
        }
      },
      "source": [
        "data['location'].value_counts()"
      ],
      "execution_count": 12,
      "outputs": [
        {
          "output_type": "execute_result",
          "data": {
            "text/plain": [
              "Saratoga, CA, USA       1972\n",
              "Athens, GA, USA         1051\n",
              "Des Moines, IA, USA      973\n",
              "Alvin, TX, USA           486\n",
              "New Orleans, LA, USA     170\n",
              "Keene, NH, USA            92\n",
              "Name: location, dtype: int64"
            ]
          },
          "metadata": {
            "tags": []
          },
          "execution_count": 12
        }
      ]
    },
    {
      "cell_type": "code",
      "metadata": {
        "id": "hKMe4P9hpkCi",
        "colab_type": "code",
        "outputId": "953a1002-1319-42ff-c2d1-1ecfdda2d437",
        "colab": {
          "base_uri": "https://localhost:8080/",
          "height": 472
        }
      },
      "source": [
        "rcParams['figure.figsize'] = 8,6\n",
        "plt.bar(data['health'].value_counts().index,data['health'].value_counts(),color='gold')\n",
        "plt.xlabel('Health')\n",
        "plt.ylabel('Number of Images')\n",
        "plt.title('Number of Bees Images per Health situation')\n",
        "plt.xticks(rotation=20, fontsize=10)\n"
      ],
      "execution_count": 13,
      "outputs": [
        {
          "output_type": "execute_result",
          "data": {
            "text/plain": [
              "([0, 1, 2, 3, 4], <a list of 5 Text major ticklabel objects>)"
            ]
          },
          "metadata": {
            "tags": []
          },
          "execution_count": 13
        },
        {
          "output_type": "display_data",
          "data": {
            "image/png": "[encoded data removed]",
            "text/plain": [
              "<Figure size 576x432 with 1 Axes>"
            ]
          },
          "metadata": {
            "tags": []
          }
        }
      ]
    },
    {
      "cell_type": "code",
      "metadata": {
        "id": "nCaI8wUYpnSL",
        "colab_type": "code",
        "outputId": "3f84d022-7f4a-4f83-ee9c-8e1a6290cb2d",
        "colab": {
          "base_uri": "https://localhost:8080/",
          "height": 352
        }
      },
      "source": [
        "#count the number of bees per health per location and per subspecies\n",
        "data.groupby(['health', 'location','subspecies']).size().to_frame('Count').reset_index()"
      ],
      "execution_count": 14,
      "outputs": [
        {
          "output_type": "execute_result",
          "data": {
            "text/html": [
              "<div>\n",
              "<style scoped>\n",
              "    .dataframe tbody tr th:only-of-type {\n",
              "        vertical-align: middle;\n",
              "    }\n",
              "\n",
              "    .dataframe tbody tr th {\n",
              "        vertical-align: top;\n",
              "    }\n",
              "\n",
              "    .dataframe thead th {\n",
              "        text-align: right;\n",
              "    }\n",
              "</style>\n",
              "<table border=\"1\" class=\"dataframe\">\n",
              "  <thead>\n",
              "    <tr style=\"text-align: right;\">\n",
              "      <th></th>\n",
              "      <th>health</th>\n",
              "      <th>location</th>\n",
              "      <th>subspecies</th>\n",
              "      <th>Count</th>\n",
              "    </tr>\n",
              "  </thead>\n",
              "  <tbody>\n",
              "    <tr>\n",
              "      <th>0</th>\n",
              "      <td>Varroa, Small Hive Beetles</td>\n",
              "      <td>Athens, GA, USA</td>\n",
              "      <td>1 Mixed local stock 2</td>\n",
              "      <td>472</td>\n",
              "    </tr>\n",
              "    <tr>\n",
              "      <th>1</th>\n",
              "      <td>ant problems</td>\n",
              "      <td>Alvin, TX, USA</td>\n",
              "      <td>Italian honey bee</td>\n",
              "      <td>457</td>\n",
              "    </tr>\n",
              "    <tr>\n",
              "      <th>2</th>\n",
              "      <td>few varrao, hive beetles</td>\n",
              "      <td>Athens, GA, USA</td>\n",
              "      <td>Italian honey bee</td>\n",
              "      <td>579</td>\n",
              "    </tr>\n",
              "    <tr>\n",
              "      <th>3</th>\n",
              "      <td>healthy</td>\n",
              "      <td>Des Moines, IA, USA</td>\n",
              "      <td>Carniolan honey bee</td>\n",
              "      <td>501</td>\n",
              "    </tr>\n",
              "    <tr>\n",
              "      <th>4</th>\n",
              "      <td>healthy</td>\n",
              "      <td>Des Moines, IA, USA</td>\n",
              "      <td>Russian honey bee</td>\n",
              "      <td>435</td>\n",
              "    </tr>\n",
              "    <tr>\n",
              "      <th>5</th>\n",
              "      <td>healthy</td>\n",
              "      <td>Des Moines, IA, USA</td>\n",
              "      <td>Western honey bee</td>\n",
              "      <td>37</td>\n",
              "    </tr>\n",
              "    <tr>\n",
              "      <th>6</th>\n",
              "      <td>healthy</td>\n",
              "      <td>Keene, NH, USA</td>\n",
              "      <td>Russian honey bee</td>\n",
              "      <td>92</td>\n",
              "    </tr>\n",
              "    <tr>\n",
              "      <th>7</th>\n",
              "      <td>healthy</td>\n",
              "      <td>New Orleans, LA, USA</td>\n",
              "      <td>VSH Italian honey bee</td>\n",
              "      <td>170</td>\n",
              "    </tr>\n",
              "    <tr>\n",
              "      <th>8</th>\n",
              "      <td>healthy</td>\n",
              "      <td>Saratoga, CA, USA</td>\n",
              "      <td>Italian honey bee</td>\n",
              "      <td>1972</td>\n",
              "    </tr>\n",
              "    <tr>\n",
              "      <th>9</th>\n",
              "      <td>missing queen</td>\n",
              "      <td>Alvin, TX, USA</td>\n",
              "      <td>VSH Italian honey bee</td>\n",
              "      <td>29</td>\n",
              "    </tr>\n",
              "  </tbody>\n",
              "</table>\n",
              "</div>"
            ],
            "text/plain": [
              "                       health  ... Count\n",
              "0  Varroa, Small Hive Beetles  ...   472\n",
              "1                ant problems  ...   457\n",
              "2    few varrao, hive beetles  ...   579\n",
              "3                     healthy  ...   501\n",
              "4                     healthy  ...   435\n",
              "5                     healthy  ...    37\n",
              "6                     healthy  ...    92\n",
              "7                     healthy  ...   170\n",
              "8                     healthy  ...  1972\n",
              "9               missing queen  ...    29\n",
              "\n",
              "[10 rows x 4 columns]"
            ]
          },
          "metadata": {
            "tags": []
          },
          "execution_count": 14
        }
      ]
    },
    {
      "cell_type": "code",
      "metadata": {
        "id": "Z4DNwYPaqr2v",
        "colab_type": "code",
        "outputId": "3b71bf5a-4bb0-491c-caec-62fb74407e2a",
        "colab": {
          "base_uri": "https://localhost:8080/",
          "height": 70
        }
      },
      "source": [
        "#count the number of bees who carry and dont carry pollen (highly unballanced)\n",
        "data['pollen_carrying'].value_counts()"
      ],
      "execution_count": 15,
      "outputs": [
        {
          "output_type": "execute_result",
          "data": {
            "text/plain": [
              "False    4738\n",
              "True        6\n",
              "Name: pollen_carrying, dtype: int64"
            ]
          },
          "metadata": {
            "tags": []
          },
          "execution_count": 15
        }
      ]
    },
    {
      "cell_type": "code",
      "metadata": {
        "id": "4NOhQ2anqNEM",
        "colab_type": "code",
        "outputId": "cf6cd277-2984-413d-980f-e8a2159cf8f5",
        "colab": {
          "base_uri": "https://localhost:8080/",
          "height": 261
        }
      },
      "source": [
        "\n",
        "#count the number of bees who carry pollen per subspecies\n",
        "data.groupby(['pollen_carrying', 'subspecies']).size().to_frame('Count').reset_index()"
      ],
      "execution_count": 16,
      "outputs": [
        {
          "output_type": "execute_result",
          "data": {
            "text/html": [
              "<div>\n",
              "<style scoped>\n",
              "    .dataframe tbody tr th:only-of-type {\n",
              "        vertical-align: middle;\n",
              "    }\n",
              "\n",
              "    .dataframe tbody tr th {\n",
              "        vertical-align: top;\n",
              "    }\n",
              "\n",
              "    .dataframe thead th {\n",
              "        text-align: right;\n",
              "    }\n",
              "</style>\n",
              "<table border=\"1\" class=\"dataframe\">\n",
              "  <thead>\n",
              "    <tr style=\"text-align: right;\">\n",
              "      <th></th>\n",
              "      <th>pollen_carrying</th>\n",
              "      <th>subspecies</th>\n",
              "      <th>Count</th>\n",
              "    </tr>\n",
              "  </thead>\n",
              "  <tbody>\n",
              "    <tr>\n",
              "      <th>0</th>\n",
              "      <td>False</td>\n",
              "      <td>1 Mixed local stock 2</td>\n",
              "      <td>472</td>\n",
              "    </tr>\n",
              "    <tr>\n",
              "      <th>1</th>\n",
              "      <td>False</td>\n",
              "      <td>Carniolan honey bee</td>\n",
              "      <td>501</td>\n",
              "    </tr>\n",
              "    <tr>\n",
              "      <th>2</th>\n",
              "      <td>False</td>\n",
              "      <td>Italian honey bee</td>\n",
              "      <td>3002</td>\n",
              "    </tr>\n",
              "    <tr>\n",
              "      <th>3</th>\n",
              "      <td>False</td>\n",
              "      <td>Russian honey bee</td>\n",
              "      <td>527</td>\n",
              "    </tr>\n",
              "    <tr>\n",
              "      <th>4</th>\n",
              "      <td>False</td>\n",
              "      <td>VSH Italian honey bee</td>\n",
              "      <td>199</td>\n",
              "    </tr>\n",
              "    <tr>\n",
              "      <th>5</th>\n",
              "      <td>False</td>\n",
              "      <td>Western honey bee</td>\n",
              "      <td>37</td>\n",
              "    </tr>\n",
              "    <tr>\n",
              "      <th>6</th>\n",
              "      <td>True</td>\n",
              "      <td>Italian honey bee</td>\n",
              "      <td>6</td>\n",
              "    </tr>\n",
              "  </tbody>\n",
              "</table>\n",
              "</div>"
            ],
            "text/plain": [
              "   pollen_carrying             subspecies  Count\n",
              "0            False  1 Mixed local stock 2    472\n",
              "1            False    Carniolan honey bee    501\n",
              "2            False      Italian honey bee   3002\n",
              "3            False      Russian honey bee    527\n",
              "4            False  VSH Italian honey bee    199\n",
              "5            False      Western honey bee     37\n",
              "6             True      Italian honey bee      6"
            ]
          },
          "metadata": {
            "tags": []
          },
          "execution_count": 16
        }
      ]
    },
    {
      "cell_type": "code",
      "metadata": {
        "id": "XWyj1_Kb0MIx",
        "colab_type": "code",
        "colab": {}
      },
      "source": [
        "data['date_time'] = pd.to_datetime(data['date'] + ' ' + data['time'])\n",
        "data['month'] = data['date_time'].dt.month\n",
        "data['hour']= data['date_time'].dt.hour"
      ],
      "execution_count": 0,
      "outputs": []
    },
    {
      "cell_type": "code",
      "metadata": {
        "id": "XieOpn_q5mNd",
        "colab_type": "code",
        "outputId": "9a3f39c4-94f2-47fd-c49d-b013ded00c9f",
        "colab": {
          "base_uri": "https://localhost:8080/",
          "height": 70
        }
      },
      "source": [
        "data['month'].value_counts()\n"
      ],
      "execution_count": 18,
      "outputs": [
        {
          "output_type": "execute_result",
          "data": {
            "text/plain": [
              "8    4011\n",
              "7     733\n",
              "Name: month, dtype: int64"
            ]
          },
          "metadata": {
            "tags": []
          },
          "execution_count": 18
        }
      ]
    },
    {
      "cell_type": "code",
      "metadata": {
        "id": "ca1MnPK30QbK",
        "colab_type": "code",
        "outputId": "cc7cf560-4c3a-42b7-dc6b-74cd8c8a1b72",
        "colab": {
          "base_uri": "https://localhost:8080/",
          "height": 88
        }
      },
      "source": [
        "# Add a new column named 'Day Time' \n",
        "timeofday=pd.cut(data['hour'],bins=[0,12,17,22],labels=['Morning','Afternoon','Evening'])\n",
        "data.insert(11,'Day Time',timeofday)\n",
        "data['Day Time'].value_counts()"
      ],
      "execution_count": 19,
      "outputs": [
        {
          "output_type": "execute_result",
          "data": {
            "text/plain": [
              "Afternoon    2526\n",
              "Morning      1799\n",
              "Evening       419\n",
              "Name: Day Time, dtype: int64"
            ]
          },
          "metadata": {
            "tags": []
          },
          "execution_count": 19
        }
      ]
    },
    {
      "cell_type": "code",
      "metadata": {
        "id": "eg0HyjTN0f7z",
        "colab_type": "code",
        "colab": {}
      },
      "source": [
        "del data['date']\n",
        "del data['time']\n",
        "del data['hour']\n",
        "del data['date_time']\n",
        "del data['file']\n",
        "\n",
        "# Add a new column named 'address' ('location' and 'zip code')\n",
        "data['address'] = data['location'].str.cat(data['zip code'].astype(str), sep =\" \") \n",
        "del data['location']\n",
        "del data['zip code']"
      ],
      "execution_count": 0,
      "outputs": []
    },
    {
      "cell_type": "code",
      "metadata": {
        "id": "F4AJ8STW5v9j",
        "colab_type": "code",
        "outputId": "7ffc469b-2990-40f3-f1db-ea5ee204f466",
        "colab": {
          "base_uri": "https://localhost:8080/",
          "height": 410
        }
      },
      "source": [
        "data1=data.groupby(['Day Time', 'subspecies']).size().to_frame('Count').reset_index()\n",
        "data1.pivot(\"Day Time\", \"subspecies\", \"Count\").plot(kind='bar')\n",
        "plt.title('Number of Bees Images per Subspecies and Day Time')\n",
        "plt.xticks(rotation=0, fontsize=10)\n",
        "plt.show()"
      ],
      "execution_count": 21,
      "outputs": [
        {
          "output_type": "display_data",
          "data": {
            "image/png": "[encoded data removed]",
            "text/plain": [
              "<Figure size 576x432 with 1 Axes>"
            ]
          },
          "metadata": {
            "tags": []
          }
        }
      ]
    },
    {
      "cell_type": "markdown",
      "metadata": {
        "id": "SA6_zRQBDP_Y",
        "colab_type": "text"
      },
      "source": [
        "## Correlation"
      ]
    },
    {
      "cell_type": "code",
      "metadata": {
        "id": "KzxAA-1J93uv",
        "colab_type": "code",
        "outputId": "e86a7f15-4f23-481e-98a1-c081370181ec",
        "colab": {
          "base_uri": "https://localhost:8080/",
          "height": 466
        }
      },
      "source": [
        "cols = data.columns[1:6]\n",
        "corrM = np.zeros((len(cols),len(cols)))\n",
        "for col1, col2 in itertools.combinations(cols, 2):\n",
        "    idx1, idx2 = cols.get_loc(col1), cols.get_loc(col2)\n",
        "    corrM[idx1, idx2] = cramers_v(data[col1], data[col2])\n",
        "    corrM[idx2, idx1] = corrM[idx1, idx2]\n",
        "\n",
        "corr = pd.DataFrame(corrM, index=cols, columns=cols)\n",
        "fig, ax = plt.subplots(figsize=(8, 7))\n",
        "ax = sns.heatmap(corr,\n",
        "                 cmap=sns.light_palette(\"#33887D\",as_cmap=True),\n",
        "                 annot=True,\n",
        "                 ax=ax);\n",
        "                 \n",
        "ax.set_title(\"Cramer V Correlation between Variables\")\n",
        "                 #annot=True shows the numerical values"
      ],
      "execution_count": 23,
      "outputs": [
        {
          "output_type": "execute_result",
          "data": {
            "text/plain": [
              "Text(0.5, 1.0, 'Cramer V Correlation between Variables')"
            ]
          },
          "metadata": {
            "tags": []
          },
          "execution_count": 23
        },
        {
          "output_type": "display_data",
          "data": {
            "image/png": "[encoded data removed]",
            "text/plain": [
              "<Figure size 576x504 with 2 Axes>"
            ]
          },
          "metadata": {
            "tags": []
          }
        }
      ]
    },
    {
      "cell_type": "markdown",
      "metadata": {
        "id": "oIw5N16DmcRz",
        "colab_type": "text"
      },
      "source": [
        "## Encoding"
      ]
    },
    {
      "cell_type": "code",
      "metadata": {
        "id": "Tc1E0yeFz99r",
        "colab_type": "code",
        "outputId": "5d734040-8d2c-4610-dc7f-bcfe188c4b5a",
        "colab": {
          "base_uri": "https://localhost:8080/",
          "height": 356
        }
      },
      "source": [
        "#Convert categorical variables into dummy variables\n",
        "data=pd.get_dummies(data, columns=['address','health','Day Time','month'])\n",
        "\n",
        "#Convert boolean values (pollen_carrying) into 0 or 1\n",
        "data['pollen_carrying']=data['pollen_carrying'].astype(int)\n",
        "\n",
        "\n",
        "data.head()"
      ],
      "execution_count": 24,
      "outputs": [
        {
          "output_type": "execute_result",
          "data": {
            "text/html": [
              "<div>\n",
              "<style scoped>\n",
              "    .dataframe tbody tr th:only-of-type {\n",
              "        vertical-align: middle;\n",
              "    }\n",
              "\n",
              "    .dataframe tbody tr th {\n",
              "        vertical-align: top;\n",
              "    }\n",
              "\n",
              "    .dataframe thead th {\n",
              "        text-align: right;\n",
              "    }\n",
              "</style>\n",
              "<table border=\"1\" class=\"dataframe\">\n",
              "  <thead>\n",
              "    <tr style=\"text-align: right;\">\n",
              "      <th></th>\n",
              "      <th>subspecies</th>\n",
              "      <th>pollen_carrying</th>\n",
              "      <th>address_Alvin, TX, USA 77511</th>\n",
              "      <th>address_Athens, GA, USA 30607</th>\n",
              "      <th>address_Des Moines, IA, USA 50315</th>\n",
              "      <th>address_Keene, NH, USA 3431</th>\n",
              "      <th>address_New Orleans, LA, USA 70115</th>\n",
              "      <th>address_Saratoga, CA, USA 95070</th>\n",
              "      <th>health_Varroa, Small Hive Beetles</th>\n",
              "      <th>health_ant problems</th>\n",
              "      <th>health_few varrao, hive beetles</th>\n",
              "      <th>health_healthy</th>\n",
              "      <th>health_missing queen</th>\n",
              "      <th>Day Time_Morning</th>\n",
              "      <th>Day Time_Afternoon</th>\n",
              "      <th>Day Time_Evening</th>\n",
              "      <th>month_7</th>\n",
              "      <th>month_8</th>\n",
              "    </tr>\n",
              "  </thead>\n",
              "  <tbody>\n",
              "    <tr>\n",
              "      <th>74</th>\n",
              "      <td>Italian honey bee</td>\n",
              "      <td>0</td>\n",
              "      <td>0</td>\n",
              "      <td>0</td>\n",
              "      <td>0</td>\n",
              "      <td>0</td>\n",
              "      <td>0</td>\n",
              "      <td>1</td>\n",
              "      <td>0</td>\n",
              "      <td>0</td>\n",
              "      <td>0</td>\n",
              "      <td>1</td>\n",
              "      <td>0</td>\n",
              "      <td>0</td>\n",
              "      <td>1</td>\n",
              "      <td>0</td>\n",
              "      <td>0</td>\n",
              "      <td>1</td>\n",
              "    </tr>\n",
              "    <tr>\n",
              "      <th>75</th>\n",
              "      <td>Italian honey bee</td>\n",
              "      <td>0</td>\n",
              "      <td>0</td>\n",
              "      <td>0</td>\n",
              "      <td>0</td>\n",
              "      <td>0</td>\n",
              "      <td>0</td>\n",
              "      <td>1</td>\n",
              "      <td>0</td>\n",
              "      <td>0</td>\n",
              "      <td>0</td>\n",
              "      <td>1</td>\n",
              "      <td>0</td>\n",
              "      <td>0</td>\n",
              "      <td>1</td>\n",
              "      <td>0</td>\n",
              "      <td>0</td>\n",
              "      <td>1</td>\n",
              "    </tr>\n",
              "    <tr>\n",
              "      <th>76</th>\n",
              "      <td>Italian honey bee</td>\n",
              "      <td>0</td>\n",
              "      <td>0</td>\n",
              "      <td>0</td>\n",
              "      <td>0</td>\n",
              "      <td>0</td>\n",
              "      <td>0</td>\n",
              "      <td>1</td>\n",
              "      <td>0</td>\n",
              "      <td>0</td>\n",
              "      <td>0</td>\n",
              "      <td>1</td>\n",
              "      <td>0</td>\n",
              "      <td>0</td>\n",
              "      <td>1</td>\n",
              "      <td>0</td>\n",
              "      <td>0</td>\n",
              "      <td>1</td>\n",
              "    </tr>\n",
              "    <tr>\n",
              "      <th>77</th>\n",
              "      <td>Italian honey bee</td>\n",
              "      <td>0</td>\n",
              "      <td>0</td>\n",
              "      <td>0</td>\n",
              "      <td>0</td>\n",
              "      <td>0</td>\n",
              "      <td>0</td>\n",
              "      <td>1</td>\n",
              "      <td>0</td>\n",
              "      <td>0</td>\n",
              "      <td>0</td>\n",
              "      <td>1</td>\n",
              "      <td>0</td>\n",
              "      <td>0</td>\n",
              "      <td>1</td>\n",
              "      <td>0</td>\n",
              "      <td>0</td>\n",
              "      <td>1</td>\n",
              "    </tr>\n",
              "    <tr>\n",
              "      <th>78</th>\n",
              "      <td>Italian honey bee</td>\n",
              "      <td>0</td>\n",
              "      <td>0</td>\n",
              "      <td>0</td>\n",
              "      <td>0</td>\n",
              "      <td>0</td>\n",
              "      <td>0</td>\n",
              "      <td>1</td>\n",
              "      <td>0</td>\n",
              "      <td>0</td>\n",
              "      <td>0</td>\n",
              "      <td>1</td>\n",
              "      <td>0</td>\n",
              "      <td>0</td>\n",
              "      <td>1</td>\n",
              "      <td>0</td>\n",
              "      <td>0</td>\n",
              "      <td>1</td>\n",
              "    </tr>\n",
              "  </tbody>\n",
              "</table>\n",
              "</div>"
            ],
            "text/plain": [
              "           subspecies  pollen_carrying  ...  month_7  month_8\n",
              "74  Italian honey bee                0  ...        0        1\n",
              "75  Italian honey bee                0  ...        0        1\n",
              "76  Italian honey bee                0  ...        0        1\n",
              "77  Italian honey bee                0  ...        0        1\n",
              "78  Italian honey bee                0  ...        0        1\n",
              "\n",
              "[5 rows x 18 columns]"
            ]
          },
          "metadata": {
            "tags": []
          },
          "execution_count": 24
        }
      ]
    },
    {
      "cell_type": "markdown",
      "metadata": {
        "id": "iIuKCf3-q_Qo",
        "colab_type": "text"
      },
      "source": [
        "# Classification"
      ]
    },
    {
      "cell_type": "code",
      "metadata": {
        "id": "N5f_BMLT1sK3",
        "colab_type": "code",
        "colab": {}
      },
      "source": [
        "data = pd.read_csv('bee_data_final.csv',index_col=0)\n",
        "\n",
        "#Split into training and test sets\n",
        "y = data['subspecies']\n",
        "X = data.drop(['subspecies'], axis = 1)\n",
        "X_train, X_test, y_train, y_test = train_test_split(X, y, test_size = 0.30, random_state=47)"
      ],
      "execution_count": 0,
      "outputs": []
    },
    {
      "cell_type": "code",
      "metadata": {
        "id": "e7CNX_dsWKxW",
        "colab_type": "code",
        "colab": {
          "base_uri": "https://localhost:8080/",
          "height": 141
        },
        "outputId": "16f8fbb0-033d-4439-8e48-184320bb3532"
      },
      "source": [
        "y_train.value_counts()"
      ],
      "execution_count": 55,
      "outputs": [
        {
          "output_type": "execute_result",
          "data": {
            "text/plain": [
              "Italian honey bee        2108\n",
              "Russian honey bee         374\n",
              "Carniolan honey bee       340\n",
              "1 Mixed local stock 2     328\n",
              "VSH Italian honey bee     144\n",
              "Western honey bee          26\n",
              "Name: subspecies, dtype: int64"
            ]
          },
          "metadata": {
            "tags": []
          },
          "execution_count": 55
        }
      ]
    },
    {
      "cell_type": "code",
      "metadata": {
        "id": "Rly3JCRpWT6W",
        "colab_type": "code",
        "colab": {
          "base_uri": "https://localhost:8080/",
          "height": 141
        },
        "outputId": "808c07d8-c544-4d1c-f37b-9098206dd700"
      },
      "source": [
        "y_test.value_counts()"
      ],
      "execution_count": 48,
      "outputs": [
        {
          "output_type": "execute_result",
          "data": {
            "text/plain": [
              "Italian honey bee        900\n",
              "Carniolan honey bee      161\n",
              "Russian honey bee        153\n",
              "1 Mixed local stock 2    144\n",
              "VSH Italian honey bee     55\n",
              "Western honey bee         11\n",
              "Name: subspecies, dtype: int64"
            ]
          },
          "metadata": {
            "tags": []
          },
          "execution_count": 48
        }
      ]
    },
    {
      "cell_type": "markdown",
      "metadata": {
        "id": "DGinYgXMrEsA",
        "colab_type": "text"
      },
      "source": [
        "## KNN"
      ]
    },
    {
      "cell_type": "code",
      "metadata": {
        "id": "-DoKdKc4D-vp",
        "colab_type": "code",
        "colab": {}
      },
      "source": [
        "from scipy.spatial.distance import jaccard\n",
        "from scipy.spatial.distance import hamming"
      ],
      "execution_count": 0,
      "outputs": []
    },
    {
      "cell_type": "code",
      "metadata": {
        "id": "yPI1UmJurHQ5",
        "colab_type": "code",
        "outputId": "59cd0035-c8ba-4446-fdf7-fade1cc6472e",
        "colab": {
          "base_uri": "https://localhost:8080/",
          "height": 372
        }
      },
      "source": [
        "#KNN Classifier scores using all variables\n",
        "\n",
        "knn_scores = []\n",
        "K_list=range(1,30,2)\n",
        "for k in K_list:\n",
        "    knn_clf = KNeighborsClassifier(n_neighbors = k, metric='jaccard')\n",
        "    knn_scores.append(round(np.mean(cross_val_score(knn_clf,X_train,y_train,scoring='accuracy',cv=10)),2))\n",
        "\n",
        "plt.figure(figsize=(10,5))\n",
        "plt.plot([k for k in K_list], knn_scores, color = 'red')\n",
        "for i in range(len(K_list)):\n",
        "    plt.text(K_list[i], knn_scores[i], (K_list[i], knn_scores[i]),fontsize=9)\n",
        "plt.xticks([i for i in K_list])\n",
        "plt.xlabel('Number of Neighbors (K)')\n",
        "plt.ylabel('Scores')\n",
        "plt.title('K Neighbors Classifier scores for different K values')"
      ],
      "execution_count": 49,
      "outputs": [
        {
          "output_type": "execute_result",
          "data": {
            "text/plain": [
              "Text(0.5, 1.0, 'K Neighbors Classifier scores for different K values')"
            ]
          },
          "metadata": {
            "tags": []
          },
          "execution_count": 49
        },
        {
          "output_type": "display_data",
          "data": {
            "image/png": "[encoded data removed]",
            "text/plain": [
              "<Figure size 720x360 with 1 Axes>"
            ]
          },
          "metadata": {
            "tags": []
          }
        }
      ]
    },
    {
      "cell_type": "code",
      "metadata": {
        "id": "1qrJ5HeTrAjo",
        "colab_type": "code",
        "outputId": "183b9a09-8e05-4ea2-98df-55bf98fb4206",
        "colab": {
          "base_uri": "https://localhost:8080/",
          "height": 926
        }
      },
      "source": [
        "#Best parameters\n",
        "knn_clf = KNeighborsClassifier(n_neighbors=27, metric='jaccard')\n",
        "knn_clf.fit(X_train, y_train)\n",
        "\n",
        "#Test Results \n",
        "print_score(knn_clf, X_test, y_test)\n",
        "print(\"\\n\")\n",
        "\n",
        "#AUC\n",
        "calculate_auc(knn_clf, X_test, y_test)"
      ],
      "execution_count": 75,
      "outputs": [
        {
          "output_type": "stream",
          "text": [
            "Test results:\n",
            "\n",
            "Accuracy Score: 0.9122\n",
            "\n",
            "Balanced Accuracy Score: 0.7153\n",
            "\n",
            "Classification Report:\n",
            "                       precision    recall  f1-score   support\n",
            "\n",
            "1 Mixed local stock 2       1.00      1.00      1.00       144\n",
            "  Carniolan honey bee       1.00      0.29      0.45       161\n",
            "    Italian honey bee       1.00      1.00      1.00       900\n",
            "    Russian honey bee       0.55      1.00      0.71       153\n",
            "VSH Italian honey bee       1.00      1.00      1.00        55\n",
            "    Western honey bee       0.00      0.00      0.00        11\n",
            "\n",
            "             accuracy                           0.91      1424\n",
            "            macro avg       0.76      0.72      0.69      1424\n",
            "         weighted avg       0.94      0.91      0.90      1424\n",
            "\n",
            "\n"
          ],
          "name": "stdout"
        },
        {
          "output_type": "stream",
          "text": [
            "/usr/local/lib/python3.6/dist-packages/sklearn/metrics/_classification.py:1272: UndefinedMetricWarning: Precision and F-score are ill-defined and being set to 0.0 in labels with no predicted samples. Use `zero_division` parameter to control this behavior.\n",
            "  _warn_prf(average, modifier, msg_start, len(result))\n"
          ],
          "name": "stderr"
        },
        {
          "output_type": "stream",
          "text": [
            "Confusion Matrix:\n",
            "[[144   0   0   0   0   0]\n",
            " [  0  47   0 114   0   0]\n",
            " [  0   0 900   0   0   0]\n",
            " [  0   0   0 153   0   0]\n",
            " [  0   0   0   0  55   0]\n",
            " [  0   0   0  11   0   0]]\n",
            "\n",
            "Specificity:\n",
            "\n",
            "    1 Mixed local stock 2  1.0\n",
            "      Carniolan honey bee  1.0\n",
            "        Italian honey bee  1.0\n",
            "        Russian honey bee  0.9016522423288749\n",
            "    VSH Italian honey bee  1.0\n",
            "        Western honey bee  1.0\n",
            "\n",
            "macro avg: 0.9836087070548124\n",
            "None\n",
            "\n",
            "\n",
            "One-vs-One ROC AUC scores:\n",
            "0.928021 (macro),\n",
            "0.968396 (weighted by prevalence)\n",
            "One-vs-Rest ROC AUC scores:\n",
            "0.972059 (macro),\n",
            "0.990375 (weighted by prevalence)\n"
          ],
          "name": "stdout"
        }
      ]
    },
    {
      "cell_type": "markdown",
      "metadata": {
        "id": "U-lruhII1vne",
        "colab_type": "text"
      },
      "source": [
        "## SVM"
      ]
    },
    {
      "cell_type": "code",
      "metadata": {
        "id": "AfLzIyiTzLed",
        "colab_type": "code",
        "outputId": "b775a6b0-62e3-4baa-b6ca-cdf75c13b6c1",
        "colab": {
          "base_uri": "https://localhost:8080/",
          "height": 51
        }
      },
      "source": [
        "parameters = {'C': [0.001,0.01,0.1,1,10,100], 'kernel' : ['poly','rbf','sigmoid','linear'], 'gamma':[0.001, 0.01,0.1]}\n",
        "\n",
        "svm_clf = svm.SVC()\n",
        "svm_cv = GridSearchCV(estimator=svm_clf, param_grid=parameters, scoring='accuracy', cv=5, n_jobs=-1)\n",
        "svm_cv.fit(X_train, y_train)\n",
        "print('Best parameters set found:',svm_cv.best_params_)\n",
        "print('Score with best parameters:',svm_cv.best_score_)"
      ],
      "execution_count": 0,
      "outputs": [
        {
          "output_type": "stream",
          "text": [
            "Best parameters set found: {'C': 0.1, 'gamma': 0.001, 'kernel': 'linear'}\n",
            "Score with best parameters: 0.9240963855421687\n"
          ],
          "name": "stdout"
        }
      ]
    },
    {
      "cell_type": "code",
      "metadata": {
        "id": "OpgKDHcO1L_i",
        "colab_type": "code",
        "outputId": "ccc1195f-147d-4f9a-ad66-7b6b63087711",
        "colab": {
          "base_uri": "https://localhost:8080/",
          "height": 887
        }
      },
      "source": [
        "#Best parameters\n",
        "svm_clf = svm.SVC(C=0.1, kernel='linear', probability=True)\n",
        "svm_clf.fit(X_train, y_train)\n",
        "\n",
        "#Test Results \n",
        "print_score(svm_clf, X_test, y_test)\n",
        "print(\"\\n\")\n",
        "\n",
        "#AUC\n",
        "calculate_auc(svm_clf, X_test, y_test)"
      ],
      "execution_count": 0,
      "outputs": [
        {
          "output_type": "stream",
          "text": [
            "Test results:\n",
            "\n",
            "Accuracy Score: 0.9122\n",
            "\n",
            "Balanced Accuracy Score: 0.7153\n",
            "\n",
            "Classification Report:\n",
            "                       precision    recall  f1-score   support\n",
            "\n",
            "1 Mixed local stock 2       1.00      1.00      1.00       144\n",
            "  Carniolan honey bee       1.00      0.29      0.45       161\n",
            "    Italian honey bee       1.00      1.00      1.00       900\n",
            "    Russian honey bee       0.55      1.00      0.71       153\n",
            "VSH Italian honey bee       1.00      1.00      1.00        55\n",
            "    Western honey bee       0.00      0.00      0.00        11\n",
            "\n",
            "             accuracy                           0.91      1424\n",
            "            macro avg       0.76      0.72      0.69      1424\n",
            "         weighted avg       0.94      0.91      0.90      1424\n",
            "\n",
            "\n",
            "Confusion Matrix:\n",
            "[[144   0   0   0   0   0]\n",
            " [  0  47   0 114   0   0]\n",
            " [  0   0 900   0   0   0]\n",
            " [  0   0   0 153   0   0]\n",
            " [  0   0   0   0  55   0]\n",
            " [  0   0   0  11   0   0]]\n",
            "\n",
            "Specificity:\n",
            "\n",
            "    1 Mixed local stock 2  1.0\n",
            "      Carniolan honey bee  1.0\n",
            "        Italian honey bee  1.0\n",
            "        Russian honey bee  0.9016522423288749\n",
            "    VSH Italian honey bee  1.0\n",
            "        Western honey bee  1.0\n",
            "\n",
            "macro avg: 0.9836087070548124\n",
            "None\n",
            "\n",
            "\n",
            "One-vs-One ROC AUC scores:\n",
            "0.918290 (macro),\n",
            "0.964869 (weighted by prevalence)\n",
            "One-vs-Rest ROC AUC scores:\n",
            "0.966515 (macro),\n",
            "0.990118 (weighted by prevalence)\n"
          ],
          "name": "stdout"
        },
        {
          "output_type": "stream",
          "text": [
            "/usr/local/lib/python3.6/dist-packages/sklearn/metrics/_classification.py:1272: UndefinedMetricWarning: Precision and F-score are ill-defined and being set to 0.0 in labels with no predicted samples. Use `zero_division` parameter to control this behavior.\n",
            "  _warn_prf(average, modifier, msg_start, len(result))\n"
          ],
          "name": "stderr"
        }
      ]
    },
    {
      "cell_type": "markdown",
      "metadata": {
        "id": "gykE6fzw1ypF",
        "colab_type": "text"
      },
      "source": [
        "## Random Forest"
      ]
    },
    {
      "cell_type": "code",
      "metadata": {
        "id": "jvoQ2quItDkx",
        "colab_type": "code",
        "outputId": "c01f03f5-2dc0-4796-c622-e117f89a605e",
        "colab": {
          "base_uri": "https://localhost:8080/",
          "height": 51
        }
      },
      "source": [
        "#Random Forest Classifier scores using all variables\n",
        "\n",
        "max_depths = np.linspace(1, 20, 20, endpoint=True)\n",
        "parameters = {'n_estimators': [1, 2, 4, 8, 16, 32, 64, 100, 200], \n",
        "              'max_depth' : max_depths,\n",
        "              'class_weight':['balanced','None']}\n",
        "\n",
        "rforest_clf = RandomForestClassifier(n_jobs=-1)\n",
        "rforest_cv = GridSearchCV(estimator=rforest_clf, param_grid=parameters, scoring='accuracy', cv=5, n_jobs=-1)\n",
        "rforest_cv.fit(X_train, y_train)\n",
        "print('Best parameters set found:',rforest_cv.best_params_)\n",
        "print('Score with best parameters:',rforest_cv.best_score_)\n"
      ],
      "execution_count": 0,
      "outputs": [
        {
          "output_type": "stream",
          "text": [
            "Best parameters set found: {'class_weight': 'balanced', 'max_depth': 7.0, 'n_estimators': 1}\n",
            "Score with best parameters: 0.880421686746988\n"
          ],
          "name": "stdout"
        }
      ]
    },
    {
      "cell_type": "code",
      "metadata": {
        "id": "coH-9Y0W60Th",
        "colab_type": "code",
        "outputId": "be93e73a-28a7-47b4-ccd1-9e92413412dc",
        "colab": {
          "base_uri": "https://localhost:8080/",
          "height": 833
        }
      },
      "source": [
        "#Best parameters\n",
        "rndf_clf = RandomForestClassifier(n_estimators = 1, max_depth = 7, class_weight='balanced')\n",
        "rndf_clf.fit(X_train, y_train)\n",
        "\n",
        "#Test Results \n",
        "print_score(rndf_clf, X_test, y_test)\n",
        "print(\"\\n\")\n",
        "\n",
        "#AUC\n",
        "calculate_auc(rndf_clf, X_test, y_test)"
      ],
      "execution_count": 0,
      "outputs": [
        {
          "output_type": "stream",
          "text": [
            "Test results:\n",
            "\n",
            "Accuracy Score: 0.8230\n",
            "\n",
            "Balanced Accuracy Score: 0.7389\n",
            "\n",
            "Classification Report:\n",
            "                       precision    recall  f1-score   support\n",
            "\n",
            "1 Mixed local stock 2       1.00      1.00      1.00       144\n",
            "  Carniolan honey bee       1.00      0.29      0.45       161\n",
            "    Italian honey bee       1.00      0.99      1.00       900\n",
            "    Russian honey bee       1.00      0.15      0.26       153\n",
            "VSH Italian honey bee       1.00      1.00      1.00        55\n",
            "    Western honey bee       0.04      1.00      0.08        11\n",
            "\n",
            "             accuracy                           0.82      1424\n",
            "            macro avg       0.84      0.74      0.63      1424\n",
            "         weighted avg       0.99      0.82      0.85      1424\n",
            "\n",
            "\n",
            "Confusion Matrix:\n",
            "[[144   0   0   0   0   0]\n",
            " [  0  47   0   0   0 114]\n",
            " [  0   0 892   0   0   8]\n",
            " [  0   0   0  23   0 130]\n",
            " [  0   0   0   0  55   0]\n",
            " [  0   0   0   0   0  11]]\n",
            "\n",
            "Specificity:\n",
            "\n",
            "    1 Mixed local stock 2  1.0\n",
            "      Carniolan honey bee  1.0\n",
            "        Italian honey bee  1.0\n",
            "        Russian honey bee  1.0\n",
            "    VSH Italian honey bee  1.0\n",
            "        Western honey bee  0.821656050955414\n",
            "\n",
            "macro avg: 0.970276008492569\n",
            "None\n",
            "\n",
            "\n",
            "One-vs-One ROC AUC scores:\n",
            "0.927263 (macro),\n",
            "0.966799 (weighted by prevalence)\n",
            "One-vs-Rest ROC AUC scores:\n",
            "0.970407 (macro),\n",
            "0.988445 (weighted by prevalence)\n"
          ],
          "name": "stdout"
        }
      ]
    },
    {
      "cell_type": "markdown",
      "metadata": {
        "id": "kBjtLuVqEBpy",
        "colab_type": "text"
      },
      "source": [
        "## Naive Bayes\n"
      ]
    },
    {
      "cell_type": "code",
      "metadata": {
        "id": "Pl6RhYVztPnr",
        "colab_type": "code",
        "outputId": "abb156be-1568-4168-bc39-d113ecc9e92b",
        "colab": {
          "base_uri": "https://localhost:8080/",
          "height": 712
        }
      },
      "source": [
        "#NB Classifier scores using all variables\n",
        "from sklearn.naive_bayes import MultinomialNB\n",
        "\n",
        "K = np.linspace(0,1,10)\n",
        "\n",
        "nb_scores = []\n",
        "for k in K:\n",
        "    nb_clf = MultinomialNB(alpha = k)\n",
        "    nb_scores.append(round(np.mean(cross_val_score(nb_clf,X_train,y_train,cv=10)),2))\n",
        "\n",
        "plt.figure(figsize=(10,5))\n",
        "plt.plot([k for k in range(1,len(K)+1)], nb_scores, color = 'red')\n",
        "for i in range(1,len(K)+1):\n",
        "    plt.text(i, nb_scores[i-1], (K[i-1], nb_scores[i-1]))\n",
        "plt.xticks([i for i in range(1,len(K)+1)])\n",
        "plt.xlabel('Alpha value')\n",
        "plt.ylabel('Scores')\n",
        "plt.title('Naive Bayes Classifier scores for different alpha values')"
      ],
      "execution_count": 0,
      "outputs": [
        {
          "output_type": "stream",
          "text": [
            "/usr/local/lib/python3.6/dist-packages/sklearn/naive_bayes.py:507: UserWarning: alpha too small will result in numeric errors, setting alpha = 1.0e-10\n",
            "  'setting alpha = %.1e' % _ALPHA_MIN)\n",
            "/usr/local/lib/python3.6/dist-packages/sklearn/naive_bayes.py:507: UserWarning: alpha too small will result in numeric errors, setting alpha = 1.0e-10\n",
            "  'setting alpha = %.1e' % _ALPHA_MIN)\n",
            "/usr/local/lib/python3.6/dist-packages/sklearn/naive_bayes.py:507: UserWarning: alpha too small will result in numeric errors, setting alpha = 1.0e-10\n",
            "  'setting alpha = %.1e' % _ALPHA_MIN)\n",
            "/usr/local/lib/python3.6/dist-packages/sklearn/naive_bayes.py:507: UserWarning: alpha too small will result in numeric errors, setting alpha = 1.0e-10\n",
            "  'setting alpha = %.1e' % _ALPHA_MIN)\n",
            "/usr/local/lib/python3.6/dist-packages/sklearn/naive_bayes.py:507: UserWarning: alpha too small will result in numeric errors, setting alpha = 1.0e-10\n",
            "  'setting alpha = %.1e' % _ALPHA_MIN)\n",
            "/usr/local/lib/python3.6/dist-packages/sklearn/naive_bayes.py:507: UserWarning: alpha too small will result in numeric errors, setting alpha = 1.0e-10\n",
            "  'setting alpha = %.1e' % _ALPHA_MIN)\n",
            "/usr/local/lib/python3.6/dist-packages/sklearn/naive_bayes.py:507: UserWarning: alpha too small will result in numeric errors, setting alpha = 1.0e-10\n",
            "  'setting alpha = %.1e' % _ALPHA_MIN)\n",
            "/usr/local/lib/python3.6/dist-packages/sklearn/naive_bayes.py:507: UserWarning: alpha too small will result in numeric errors, setting alpha = 1.0e-10\n",
            "  'setting alpha = %.1e' % _ALPHA_MIN)\n",
            "/usr/local/lib/python3.6/dist-packages/sklearn/naive_bayes.py:507: UserWarning: alpha too small will result in numeric errors, setting alpha = 1.0e-10\n",
            "  'setting alpha = %.1e' % _ALPHA_MIN)\n",
            "/usr/local/lib/python3.6/dist-packages/sklearn/naive_bayes.py:507: UserWarning: alpha too small will result in numeric errors, setting alpha = 1.0e-10\n",
            "  'setting alpha = %.1e' % _ALPHA_MIN)\n"
          ],
          "name": "stderr"
        },
        {
          "output_type": "execute_result",
          "data": {
            "text/plain": [
              "Text(0.5, 1.0, 'Naive Bayes Classifier scores for different alpha values')"
            ]
          },
          "metadata": {
            "tags": []
          },
          "execution_count": 76
        },
        {
          "output_type": "display_data",
          "data": {
            "image/png": "[encoded data removed]",
            "text/plain": [
              "<Figure size 720x360 with 1 Axes>"
            ]
          },
          "metadata": {
            "tags": []
          }
        }
      ]
    },
    {
      "cell_type": "code",
      "metadata": {
        "id": "Jaew2EG34AzG",
        "colab_type": "code",
        "outputId": "03b4cc1a-fe60-4c57-891c-d85b0afc36bf",
        "colab": {
          "base_uri": "https://localhost:8080/",
          "height": 887
        }
      },
      "source": [
        "#Best parameters\n",
        "nb_clf = MultinomialNB(alpha = 2)\n",
        "nb_clf.fit(X_train, y_train)\n",
        "\n",
        "#Test Results \n",
        "print_score(nb_clf, X_test, y_test)\n",
        "print(\"\\n\")\n",
        "\n",
        "#AUC\n",
        "calculate_auc(nb_clf, X_test, y_test)"
      ],
      "execution_count": 0,
      "outputs": [
        {
          "output_type": "stream",
          "text": [
            "Test results:\n",
            "\n",
            "Accuracy Score: 0.9122\n",
            "\n",
            "Balanced Accuracy Score: 0.7153\n",
            "\n",
            "Classification Report:\n",
            "                       precision    recall  f1-score   support\n",
            "\n",
            "1 Mixed local stock 2       1.00      1.00      1.00       144\n",
            "  Carniolan honey bee       1.00      0.29      0.45       161\n",
            "    Italian honey bee       1.00      1.00      1.00       900\n",
            "    Russian honey bee       0.55      1.00      0.71       153\n",
            "VSH Italian honey bee       1.00      1.00      1.00        55\n",
            "    Western honey bee       0.00      0.00      0.00        11\n",
            "\n",
            "             accuracy                           0.91      1424\n",
            "            macro avg       0.76      0.72      0.69      1424\n",
            "         weighted avg       0.94      0.91      0.90      1424\n",
            "\n",
            "\n",
            "Confusion Matrix:\n",
            "[[144   0   0   0   0   0]\n",
            " [  0  47   0 114   0   0]\n",
            " [  0   0 900   0   0   0]\n",
            " [  0   0   0 153   0   0]\n",
            " [  0   0   0   0  55   0]\n",
            " [  0   0   0  11   0   0]]\n",
            "\n",
            "Specificity:\n",
            "\n",
            "    1 Mixed local stock 2  1.0\n",
            "      Carniolan honey bee  1.0\n",
            "        Italian honey bee  1.0\n",
            "        Russian honey bee  0.9016522423288749\n",
            "    VSH Italian honey bee  1.0\n",
            "        Western honey bee  1.0\n",
            "\n",
            "macro avg: 0.9836087070548124\n",
            "None\n",
            "\n",
            "\n",
            "One-vs-One ROC AUC scores:\n",
            "0.927400 (macro),\n",
            "0.968170 (weighted by prevalence)\n",
            "One-vs-Rest ROC AUC scores:\n",
            "0.971705 (macro),\n",
            "0.990359 (weighted by prevalence)\n"
          ],
          "name": "stdout"
        },
        {
          "output_type": "stream",
          "text": [
            "/usr/local/lib/python3.6/dist-packages/sklearn/metrics/_classification.py:1272: UndefinedMetricWarning: Precision and F-score are ill-defined and being set to 0.0 in labels with no predicted samples. Use `zero_division` parameter to control this behavior.\n",
            "  _warn_prf(average, modifier, msg_start, len(result))\n"
          ],
          "name": "stderr"
        }
      ]
    },
    {
      "cell_type": "markdown",
      "metadata": {
        "id": "pIzOf-pdjpCw",
        "colab_type": "text"
      },
      "source": [
        "## Logistic Regression"
      ]
    },
    {
      "cell_type": "code",
      "metadata": {
        "id": "Fj-SN8IWjrmh",
        "colab_type": "code",
        "outputId": "70453dfd-c591-4a49-d5df-4252d3308df4",
        "colab": {
          "base_uri": "https://localhost:8080/",
          "height": 372
        }
      },
      "source": [
        "#Logistic Regression scores using all variables\n",
        "\n",
        "C_param_range = [0.001,0.01,0.1,1,10,100]\n",
        "log_scores = []\n",
        "for i in C_param_range:\n",
        "    log_reg = LogisticRegression(C = i, max_iter=1500)\n",
        "    log_scores.append(round(np.mean(cross_val_score(log_reg,X_train,y_train,cv=10)),2))\n",
        "\n",
        "plt.figure(figsize=(10,5))\n",
        "plt.plot([C_param_range.index(i) for i in C_param_range], log_scores, color = 'red')\n",
        "for i in C_param_range:\n",
        "    plt.text(C_param_range.index(i), log_scores[C_param_range.index(i)], (i, log_scores[C_param_range.index(i)]))\n",
        "plt.xticks([C_param_range.index(i) for i in C_param_range])\n",
        "plt.xlabel('Index of regularization value')\n",
        "plt.ylabel('Scores')\n",
        "plt.title('Logistic Regression for different regularization values')"
      ],
      "execution_count": 0,
      "outputs": [
        {
          "output_type": "execute_result",
          "data": {
            "text/plain": [
              "Text(0.5, 1.0, 'Logistic Regression for different regularization values')"
            ]
          },
          "metadata": {
            "tags": []
          },
          "execution_count": 78
        },
        {
          "output_type": "display_data",
          "data": {
            "image/png": "[encoded data removed]",
            "text/plain": [
              "<Figure size 720x360 with 1 Axes>"
            ]
          },
          "metadata": {
            "tags": []
          }
        }
      ]
    },
    {
      "cell_type": "code",
      "metadata": {
        "id": "ZZkp-3fbrS58",
        "colab_type": "code",
        "outputId": "e8e8cd91-2e52-431a-d5a1-8010634d0afe",
        "colab": {
          "base_uri": "https://localhost:8080/",
          "height": 887
        }
      },
      "source": [
        "#Best parameters\n",
        "log_reg_clf = LogisticRegression(C=1, max_iter=1500)\n",
        "log_reg_clf.fit(X_train, y_train)\n",
        "\n",
        "#Test Results \n",
        "print_score(log_reg_clf, X_test, y_test)\n",
        "print(\"\\n\")\n",
        "\n",
        "#AUC\n",
        "calculate_auc(log_reg_clf, X_test, y_test)"
      ],
      "execution_count": 0,
      "outputs": [
        {
          "output_type": "stream",
          "text": [
            "Test results:\n",
            "\n",
            "Accuracy Score: 0.9122\n",
            "\n",
            "Balanced Accuracy Score: 0.7153\n",
            "\n",
            "Classification Report:\n",
            "                       precision    recall  f1-score   support\n",
            "\n",
            "1 Mixed local stock 2       1.00      1.00      1.00       144\n",
            "  Carniolan honey bee       1.00      0.29      0.45       161\n",
            "    Italian honey bee       1.00      1.00      1.00       900\n",
            "    Russian honey bee       0.55      1.00      0.71       153\n",
            "VSH Italian honey bee       1.00      1.00      1.00        55\n",
            "    Western honey bee       0.00      0.00      0.00        11\n",
            "\n",
            "             accuracy                           0.91      1424\n",
            "            macro avg       0.76      0.72      0.69      1424\n",
            "         weighted avg       0.94      0.91      0.90      1424\n",
            "\n",
            "\n",
            "Confusion Matrix:\n",
            "[[144   0   0   0   0   0]\n",
            " [  0  47   0 114   0   0]\n",
            " [  0   0 900   0   0   0]\n",
            " [  0   0   0 153   0   0]\n",
            " [  0   0   0   0  55   0]\n",
            " [  0   0   0  11   0   0]]\n",
            "\n",
            "Specificity:\n",
            "\n",
            "    1 Mixed local stock 2  1.0\n",
            "      Carniolan honey bee  1.0\n",
            "        Italian honey bee  1.0\n",
            "        Russian honey bee  0.9016522423288749\n",
            "    VSH Italian honey bee  1.0\n",
            "        Western honey bee  1.0\n",
            "\n",
            "macro avg: 0.9836087070548124\n",
            "None\n",
            "\n",
            "\n",
            "One-vs-One ROC AUC scores:\n",
            "0.928021 (macro),\n",
            "0.968396 (weighted by prevalence)\n",
            "One-vs-Rest ROC AUC scores:\n",
            "0.972059 (macro),\n",
            "0.990375 (weighted by prevalence)\n"
          ],
          "name": "stdout"
        },
        {
          "output_type": "stream",
          "text": [
            "/usr/local/lib/python3.6/dist-packages/sklearn/metrics/_classification.py:1272: UndefinedMetricWarning: Precision and F-score are ill-defined and being set to 0.0 in labels with no predicted samples. Use `zero_division` parameter to control this behavior.\n",
            "  _warn_prf(average, modifier, msg_start, len(result))\n"
          ],
          "name": "stderr"
        }
      ]
    },
    {
      "cell_type": "markdown",
      "metadata": {
        "id": "fo5yEr8I-k2A",
        "colab_type": "text"
      },
      "source": [
        "## SMOTE I - sampling_strategy"
      ]
    },
    {
      "cell_type": "code",
      "metadata": {
        "id": "KsGzvBj5yoJZ",
        "colab_type": "code",
        "outputId": "23f047ce-5c2b-4953-f4ea-043a12f54086",
        "colab": {
          "base_uri": "https://localhost:8080/",
          "height": 215
        }
      },
      "source": [
        "from imblearn.over_sampling import SMOTE\n",
        "\n",
        "X_train, X_test, y_train, y_test = train_test_split(X, y, test_size = 0.30, random_state=47)\n",
        "\n",
        "sampling_strategies= {'Italian honey bee': 2108, 'Carniolan honey bee': 800, 'Russian honey bee': 800,  '1 Mixed local stock 2': 800,\n",
        "                    'VSH Italian honey bee': 400, 'Western honey bee': 200}\n",
        "\n",
        "smote=SMOTE(sampling_strategy = sampling_strategies)\n",
        "X_train_sm, y_train_sm = smote.fit_resample(X_train,y_train)"
      ],
      "execution_count": 95,
      "outputs": [
        {
          "output_type": "stream",
          "text": [
            "/usr/local/lib/python3.6/dist-packages/sklearn/utils/deprecation.py:87: FutureWarning: Function safe_indexing is deprecated; safe_indexing is deprecated in version 0.22 and will be removed in version 0.24.\n",
            "  warnings.warn(msg, category=FutureWarning)\n",
            "/usr/local/lib/python3.6/dist-packages/sklearn/utils/deprecation.py:87: FutureWarning: Function safe_indexing is deprecated; safe_indexing is deprecated in version 0.22 and will be removed in version 0.24.\n",
            "  warnings.warn(msg, category=FutureWarning)\n",
            "/usr/local/lib/python3.6/dist-packages/sklearn/utils/deprecation.py:87: FutureWarning: Function safe_indexing is deprecated; safe_indexing is deprecated in version 0.22 and will be removed in version 0.24.\n",
            "  warnings.warn(msg, category=FutureWarning)\n",
            "/usr/local/lib/python3.6/dist-packages/sklearn/utils/deprecation.py:87: FutureWarning: Function safe_indexing is deprecated; safe_indexing is deprecated in version 0.22 and will be removed in version 0.24.\n",
            "  warnings.warn(msg, category=FutureWarning)\n",
            "/usr/local/lib/python3.6/dist-packages/sklearn/utils/deprecation.py:87: FutureWarning: Function safe_indexing is deprecated; safe_indexing is deprecated in version 0.22 and will be removed in version 0.24.\n",
            "  warnings.warn(msg, category=FutureWarning)\n"
          ],
          "name": "stderr"
        }
      ]
    },
    {
      "cell_type": "markdown",
      "metadata": {
        "id": "xllOgNWbOs05",
        "colab_type": "text"
      },
      "source": [
        "### KNN"
      ]
    },
    {
      "cell_type": "code",
      "metadata": {
        "id": "GnjxMkJOOw91",
        "colab_type": "code",
        "outputId": "95b47adc-5fa4-4914-f014-2256786ffa80",
        "colab": {
          "base_uri": "https://localhost:8080/",
          "height": 372
        }
      },
      "source": [
        "#KNN Classifier scores using all variables\n",
        "\n",
        "knn_scores = []\n",
        "K_list=range(1,30,2)\n",
        "for k in K_list:\n",
        "    knn_clf = KNeighborsClassifier(n_neighbors = k,metric='jaccard')\n",
        "    knn_scores.append(round(np.mean(cross_val_score(knn_clf,X_train_sm,y_train_sm,scoring='accuracy',cv=10)),2))\n",
        "\n",
        "plt.figure(figsize=(10,5))\n",
        "plt.plot([k for k in K_list], knn_scores, color = 'red')\n",
        "for i in range(len(K_list)):\n",
        "    plt.text(K_list[i], knn_scores[i], (K_list[i], knn_scores[i]),fontsize=9)\n",
        "plt.xticks([i for i in K_list])\n",
        "plt.xlabel('Number of Neighbors (K)')\n",
        "plt.ylabel('Scores')\n",
        "plt.title('K Neighbors Classifier scores for different K values')"
      ],
      "execution_count": 71,
      "outputs": [
        {
          "output_type": "execute_result",
          "data": {
            "text/plain": [
              "Text(0.5, 1.0, 'K Neighbors Classifier scores for different K values')"
            ]
          },
          "metadata": {
            "tags": []
          },
          "execution_count": 71
        },
        {
          "output_type": "display_data",
          "data": {
            "image/png": "[encoded data removed]",
            "text/plain": [
              "<Figure size 720x360 with 1 Axes>"
            ]
          },
          "metadata": {
            "tags": []
          }
        }
      ]
    },
    {
      "cell_type": "code",
      "metadata": {
        "id": "ZLMpOmeKO2AL",
        "colab_type": "code",
        "outputId": "5eb08b9f-d798-4c95-cbb0-4870857e4f8a",
        "colab": {
          "base_uri": "https://localhost:8080/",
          "height": 926
        }
      },
      "source": [
        "#Best parameters\n",
        "knn_clf = KNeighborsClassifier(n_neighbors=17,metric='jaccard')\n",
        "knn_clf.fit(X_train_sm, y_train_sm)\n",
        "\n",
        "#Test Results \n",
        "print_score(knn_clf, X_test, y_test)\n",
        "print(\"\\n\")\n",
        "\n",
        "#AUC\n",
        "calculate_auc(knn_clf, X_test, y_test)"
      ],
      "execution_count": 72,
      "outputs": [
        {
          "output_type": "stream",
          "text": [
            "Test results:\n",
            "\n",
            "Accuracy Score: 0.9010\n",
            "\n",
            "Balanced Accuracy Score: 0.6917\n",
            "\n",
            "Classification Report:\n",
            "                       precision    recall  f1-score   support\n",
            "\n",
            "1 Mixed local stock 2       1.00      1.00      1.00       144\n",
            "  Carniolan honey bee       0.53      1.00      0.70       161\n",
            "    Italian honey bee       1.00      1.00      1.00       900\n",
            "    Russian honey bee       1.00      0.15      0.26       153\n",
            "VSH Italian honey bee       1.00      1.00      1.00        55\n",
            "    Western honey bee       0.00      0.00      0.00        11\n",
            "\n",
            "             accuracy                           0.90      1424\n",
            "            macro avg       0.76      0.69      0.66      1424\n",
            "         weighted avg       0.94      0.90      0.88      1424\n",
            "\n",
            "\n"
          ],
          "name": "stdout"
        },
        {
          "output_type": "stream",
          "text": [
            "/usr/local/lib/python3.6/dist-packages/sklearn/metrics/_classification.py:1272: UndefinedMetricWarning: Precision and F-score are ill-defined and being set to 0.0 in labels with no predicted samples. Use `zero_division` parameter to control this behavior.\n",
            "  _warn_prf(average, modifier, msg_start, len(result))\n"
          ],
          "name": "stderr"
        },
        {
          "output_type": "stream",
          "text": [
            "Confusion Matrix:\n",
            "[[144   0   0   0   0   0]\n",
            " [  0 161   0   0   0   0]\n",
            " [  0   0 900   0   0   0]\n",
            " [  0 130   0  23   0   0]\n",
            " [  0   0   0   0  55   0]\n",
            " [  0  11   0   0   0   0]]\n",
            "\n",
            "Specificity:\n",
            "\n",
            "    1 Mixed local stock 2  1.0\n",
            "      Carniolan honey bee  0.8883610451306413\n",
            "        Italian honey bee  1.0\n",
            "        Russian honey bee  1.0\n",
            "    VSH Italian honey bee  1.0\n",
            "        Western honey bee  1.0\n",
            "\n",
            "macro avg: 0.9813935075217736\n",
            "None\n",
            "\n",
            "\n",
            "One-vs-One ROC AUC scores:\n",
            "0.928021 (macro),\n",
            "0.968396 (weighted by prevalence)\n",
            "One-vs-Rest ROC AUC scores:\n",
            "0.972059 (macro),\n",
            "0.990375 (weighted by prevalence)\n"
          ],
          "name": "stdout"
        }
      ]
    },
    {
      "cell_type": "markdown",
      "metadata": {
        "id": "fmKLaIZS16WW",
        "colab_type": "text"
      },
      "source": [
        "### SVM"
      ]
    },
    {
      "cell_type": "code",
      "metadata": {
        "id": "lwtiPV1T2IlZ",
        "colab_type": "code",
        "colab": {
          "base_uri": "https://localhost:8080/",
          "height": 52
        },
        "outputId": "0fa6e898-4c36-4b01-8ed2-c4be21cbaec7"
      },
      "source": [
        "\n",
        "parameters = {'C': [0.001,0.01,0.1,1,10,100], 'kernel' : ['linear']}\n",
        "\n",
        "svm_clf = svm.SVC()\n",
        "svm_cv = GridSearchCV(estimator=svm_clf, param_grid=parameters, scoring='accuracy', cv=5, n_jobs=-1)\n",
        "svm_cv.fit(X_train_sm, y_train_sm)\n",
        "print('Best parameters set found:',svm_cv.best_params_)\n",
        "print('Score with best parameters:',svm_cv.best_score_)\n",
        "\n"
      ],
      "execution_count": 96,
      "outputs": [
        {
          "output_type": "stream",
          "text": [
            "Best parameters set found: {'C': 0.1, 'kernel': 'linear'}\n",
            "Score with best parameters: 0.8612005037078493\n"
          ],
          "name": "stdout"
        }
      ]
    },
    {
      "cell_type": "code",
      "metadata": {
        "id": "4QAqMUHr2UDb",
        "colab_type": "code",
        "colab": {
          "base_uri": "https://localhost:8080/",
          "height": 926
        },
        "outputId": "7fcf042e-6834-4891-c49a-1558042bfeae"
      },
      "source": [
        "#Best parameters\n",
        "svm_clf = svm.SVC(C=0.1, kernel='linear', probability=True)\n",
        "svm_clf.fit(X_train_sm, y_train_sm)\n",
        "\n",
        "#Test Results \n",
        "print_score(svm_clf, X_test, y_test)\n",
        "print(\"\\n\")\n",
        "\n",
        "#AUC\n",
        "calculate_auc(svm_clf, X_test, y_test)"
      ],
      "execution_count": 97,
      "outputs": [
        {
          "output_type": "stream",
          "text": [
            "Test results:\n",
            "\n",
            "Accuracy Score: 0.9122\n",
            "\n",
            "Balanced Accuracy Score: 0.7153\n",
            "\n",
            "Classification Report:\n",
            "                       precision    recall  f1-score   support\n",
            "\n",
            "1 Mixed local stock 2       1.00      1.00      1.00       144\n",
            "  Carniolan honey bee       1.00      0.29      0.45       161\n",
            "    Italian honey bee       1.00      1.00      1.00       900\n",
            "    Russian honey bee       0.55      1.00      0.71       153\n",
            "VSH Italian honey bee       1.00      1.00      1.00        55\n",
            "    Western honey bee       0.00      0.00      0.00        11\n",
            "\n",
            "             accuracy                           0.91      1424\n",
            "            macro avg       0.76      0.72      0.69      1424\n",
            "         weighted avg       0.94      0.91      0.90      1424\n",
            "\n",
            "\n"
          ],
          "name": "stdout"
        },
        {
          "output_type": "stream",
          "text": [
            "/usr/local/lib/python3.6/dist-packages/sklearn/metrics/_classification.py:1272: UndefinedMetricWarning: Precision and F-score are ill-defined and being set to 0.0 in labels with no predicted samples. Use `zero_division` parameter to control this behavior.\n",
            "  _warn_prf(average, modifier, msg_start, len(result))\n"
          ],
          "name": "stderr"
        },
        {
          "output_type": "stream",
          "text": [
            "Confusion Matrix:\n",
            "[[144   0   0   0   0   0]\n",
            " [  0  47   0 114   0   0]\n",
            " [  0   0 900   0   0   0]\n",
            " [  0   0   0 153   0   0]\n",
            " [  0   0   0   0  55   0]\n",
            " [  0   0   0  11   0   0]]\n",
            "\n",
            "Specificity:\n",
            "\n",
            "    1 Mixed local stock 2  1.0\n",
            "      Carniolan honey bee  1.0\n",
            "        Italian honey bee  1.0\n",
            "        Russian honey bee  0.9016522423288749\n",
            "    VSH Italian honey bee  1.0\n",
            "        Western honey bee  1.0\n",
            "\n",
            "macro avg: 0.9836087070548124\n",
            "None\n",
            "\n",
            "\n",
            "One-vs-One ROC AUC scores:\n",
            "0.918290 (macro),\n",
            "0.964869 (weighted by prevalence)\n",
            "One-vs-Rest ROC AUC scores:\n",
            "0.966515 (macro),\n",
            "0.990118 (weighted by prevalence)\n"
          ],
          "name": "stdout"
        }
      ]
    },
    {
      "cell_type": "markdown",
      "metadata": {
        "id": "hW_JCrsR18Wn",
        "colab_type": "text"
      },
      "source": [
        "### Random Forest"
      ]
    },
    {
      "cell_type": "code",
      "metadata": {
        "id": "3YIAX8p_3e_N",
        "colab_type": "code",
        "colab": {
          "base_uri": "https://localhost:8080/",
          "height": 387
        },
        "outputId": "5df5d2ac-2042-4459-d87c-0b3a4c3f1d64"
      },
      "source": [
        "#Random Forest Classifier scores using all variables\n",
        "\n",
        "max_depths = np.linspace(1, 20, 20, endpoint=True)\n",
        "parameters = {'n_estimators': [1, 2, 4, 8, 16, 32, 64, 100, 200], \n",
        "              'max_depth' : max_depths}\n",
        "\n",
        "rforest_clf = RandomForestClassifier(n_jobs=-1,class_weight='balanced')\n",
        "rforest_cv = GridSearchCV(estimator=rforest_clf, param_grid=parameters, scoring='accuracy', cv=5, n_jobs=-1)\n",
        "rforest_cv.fit(X_train_sm, y_train_sm)\n",
        "print('Best parameters set found:',rforest_cv.best_params_)\n",
        "print('Score with best parameters:',rforest_cv.best_score_)\n"
      ],
      "execution_count": 103,
      "outputs": [
        {
          "output_type": "error",
          "ename": "KeyboardInterrupt",
          "evalue": "ignored",
          "traceback": [
            "\u001b[0;31m---------------------------------------------------------------------------\u001b[0m",
            "\u001b[0;31mKeyboardInterrupt\u001b[0m                         Traceback (most recent call last)",
            "\u001b[0;32m<ipython-input-103-f75f7b2bd6b6>\u001b[0m in \u001b[0;36m<module>\u001b[0;34m()\u001b[0m\n\u001b[1;32m      6\u001b[0m \u001b[0mrforest_clf\u001b[0m \u001b[0;34m=\u001b[0m \u001b[0mRandomForestClassifier\u001b[0m\u001b[0;34m(\u001b[0m\u001b[0mn_jobs\u001b[0m\u001b[0;34m=\u001b[0m\u001b[0;34m-\u001b[0m\u001b[0;36m1\u001b[0m\u001b[0;34m,\u001b[0m\u001b[0mclass_weight\u001b[0m\u001b[0;34m=\u001b[0m\u001b[0;34m'balanced'\u001b[0m\u001b[0;34m)\u001b[0m\u001b[0;34m\u001b[0m\u001b[0;34m\u001b[0m\u001b[0m\n\u001b[1;32m      7\u001b[0m \u001b[0mrforest_cv\u001b[0m \u001b[0;34m=\u001b[0m \u001b[0mGridSearchCV\u001b[0m\u001b[0;34m(\u001b[0m\u001b[0mestimator\u001b[0m\u001b[0;34m=\u001b[0m\u001b[0mrforest_clf\u001b[0m\u001b[0;34m,\u001b[0m \u001b[0mparam_grid\u001b[0m\u001b[0;34m=\u001b[0m\u001b[0mparameters\u001b[0m\u001b[0;34m,\u001b[0m \u001b[0mscoring\u001b[0m\u001b[0;34m=\u001b[0m\u001b[0;34m'accuracy'\u001b[0m\u001b[0;34m,\u001b[0m \u001b[0mcv\u001b[0m\u001b[0;34m=\u001b[0m\u001b[0;36m5\u001b[0m\u001b[0;34m,\u001b[0m \u001b[0mn_jobs\u001b[0m\u001b[0;34m=\u001b[0m\u001b[0;34m-\u001b[0m\u001b[0;36m1\u001b[0m\u001b[0;34m)\u001b[0m\u001b[0;34m\u001b[0m\u001b[0;34m\u001b[0m\u001b[0m\n\u001b[0;32m----> 8\u001b[0;31m \u001b[0mrforest_cv\u001b[0m\u001b[0;34m.\u001b[0m\u001b[0mfit\u001b[0m\u001b[0;34m(\u001b[0m\u001b[0mX_train\u001b[0m\u001b[0;34m,\u001b[0m \u001b[0my_train\u001b[0m\u001b[0;34m)\u001b[0m\u001b[0;34m\u001b[0m\u001b[0;34m\u001b[0m\u001b[0m\n\u001b[0m\u001b[1;32m      9\u001b[0m \u001b[0mprint\u001b[0m\u001b[0;34m(\u001b[0m\u001b[0;34m'Best parameters set found:'\u001b[0m\u001b[0;34m,\u001b[0m\u001b[0mrforest_cv\u001b[0m\u001b[0;34m.\u001b[0m\u001b[0mbest_params_\u001b[0m\u001b[0;34m)\u001b[0m\u001b[0;34m\u001b[0m\u001b[0;34m\u001b[0m\u001b[0m\n\u001b[1;32m     10\u001b[0m \u001b[0mprint\u001b[0m\u001b[0;34m(\u001b[0m\u001b[0;34m'Score with best parameters:'\u001b[0m\u001b[0;34m,\u001b[0m\u001b[0mrforest_cv\u001b[0m\u001b[0;34m.\u001b[0m\u001b[0mbest_score_\u001b[0m\u001b[0;34m)\u001b[0m\u001b[0;34m\u001b[0m\u001b[0;34m\u001b[0m\u001b[0m\n",
            "\u001b[0;32m/usr/local/lib/python3.6/dist-packages/sklearn/model_selection/_search.py\u001b[0m in \u001b[0;36mfit\u001b[0;34m(self, X, y, groups, **fit_params)\u001b[0m\n\u001b[1;32m    708\u001b[0m                 \u001b[0;32mreturn\u001b[0m \u001b[0mresults\u001b[0m\u001b[0;34m\u001b[0m\u001b[0;34m\u001b[0m\u001b[0m\n\u001b[1;32m    709\u001b[0m \u001b[0;34m\u001b[0m\u001b[0m\n\u001b[0;32m--> 710\u001b[0;31m             \u001b[0mself\u001b[0m\u001b[0;34m.\u001b[0m\u001b[0m_run_search\u001b[0m\u001b[0;34m(\u001b[0m\u001b[0mevaluate_candidates\u001b[0m\u001b[0;34m)\u001b[0m\u001b[0;34m\u001b[0m\u001b[0;34m\u001b[0m\u001b[0m\n\u001b[0m\u001b[1;32m    711\u001b[0m \u001b[0;34m\u001b[0m\u001b[0m\n\u001b[1;32m    712\u001b[0m         \u001b[0;31m# For multi-metric evaluation, store the best_index_, best_params_ and\u001b[0m\u001b[0;34m\u001b[0m\u001b[0;34m\u001b[0m\u001b[0;34m\u001b[0m\u001b[0m\n",
            "\u001b[0;32m/usr/local/lib/python3.6/dist-packages/sklearn/model_selection/_search.py\u001b[0m in \u001b[0;36m_run_search\u001b[0;34m(self, evaluate_candidates)\u001b[0m\n\u001b[1;32m   1149\u001b[0m     \u001b[0;32mdef\u001b[0m \u001b[0m_run_search\u001b[0m\u001b[0;34m(\u001b[0m\u001b[0mself\u001b[0m\u001b[0;34m,\u001b[0m \u001b[0mevaluate_candidates\u001b[0m\u001b[0;34m)\u001b[0m\u001b[0;34m:\u001b[0m\u001b[0;34m\u001b[0m\u001b[0;34m\u001b[0m\u001b[0m\n\u001b[1;32m   1150\u001b[0m         \u001b[0;34m\"\"\"Search all candidates in param_grid\"\"\"\u001b[0m\u001b[0;34m\u001b[0m\u001b[0;34m\u001b[0m\u001b[0m\n\u001b[0;32m-> 1151\u001b[0;31m         \u001b[0mevaluate_candidates\u001b[0m\u001b[0;34m(\u001b[0m\u001b[0mParameterGrid\u001b[0m\u001b[0;34m(\u001b[0m\u001b[0mself\u001b[0m\u001b[0;34m.\u001b[0m\u001b[0mparam_grid\u001b[0m\u001b[0;34m)\u001b[0m\u001b[0;34m)\u001b[0m\u001b[0;34m\u001b[0m\u001b[0;34m\u001b[0m\u001b[0m\n\u001b[0m\u001b[1;32m   1152\u001b[0m \u001b[0;34m\u001b[0m\u001b[0m\n\u001b[1;32m   1153\u001b[0m \u001b[0;34m\u001b[0m\u001b[0m\n",
            "\u001b[0;32m/usr/local/lib/python3.6/dist-packages/sklearn/model_selection/_search.py\u001b[0m in \u001b[0;36mevaluate_candidates\u001b[0;34m(candidate_params)\u001b[0m\n\u001b[1;32m    687\u001b[0m                                \u001b[0;32mfor\u001b[0m \u001b[0mparameters\u001b[0m\u001b[0;34m,\u001b[0m \u001b[0;34m(\u001b[0m\u001b[0mtrain\u001b[0m\u001b[0;34m,\u001b[0m \u001b[0mtest\u001b[0m\u001b[0;34m)\u001b[0m\u001b[0;34m\u001b[0m\u001b[0;34m\u001b[0m\u001b[0m\n\u001b[1;32m    688\u001b[0m                                in product(candidate_params,\n\u001b[0;32m--> 689\u001b[0;31m                                           cv.split(X, y, groups)))\n\u001b[0m\u001b[1;32m    690\u001b[0m \u001b[0;34m\u001b[0m\u001b[0m\n\u001b[1;32m    691\u001b[0m                 \u001b[0;32mif\u001b[0m \u001b[0mlen\u001b[0m\u001b[0;34m(\u001b[0m\u001b[0mout\u001b[0m\u001b[0;34m)\u001b[0m \u001b[0;34m<\u001b[0m \u001b[0;36m1\u001b[0m\u001b[0;34m:\u001b[0m\u001b[0;34m\u001b[0m\u001b[0;34m\u001b[0m\u001b[0m\n",
            "\u001b[0;32m/usr/local/lib/python3.6/dist-packages/joblib/parallel.py\u001b[0m in \u001b[0;36m__call__\u001b[0;34m(self, iterable)\u001b[0m\n\u001b[1;32m   1015\u001b[0m \u001b[0;34m\u001b[0m\u001b[0m\n\u001b[1;32m   1016\u001b[0m             \u001b[0;32mwith\u001b[0m \u001b[0mself\u001b[0m\u001b[0;34m.\u001b[0m\u001b[0m_backend\u001b[0m\u001b[0;34m.\u001b[0m\u001b[0mretrieval_context\u001b[0m\u001b[0;34m(\u001b[0m\u001b[0;34m)\u001b[0m\u001b[0;34m:\u001b[0m\u001b[0;34m\u001b[0m\u001b[0;34m\u001b[0m\u001b[0m\n\u001b[0;32m-> 1017\u001b[0;31m                 \u001b[0mself\u001b[0m\u001b[0;34m.\u001b[0m\u001b[0mretrieve\u001b[0m\u001b[0;34m(\u001b[0m\u001b[0;34m)\u001b[0m\u001b[0;34m\u001b[0m\u001b[0;34m\u001b[0m\u001b[0m\n\u001b[0m\u001b[1;32m   1018\u001b[0m             \u001b[0;31m# Make sure that we get a last message telling us we are done\u001b[0m\u001b[0;34m\u001b[0m\u001b[0;34m\u001b[0m\u001b[0;34m\u001b[0m\u001b[0m\n\u001b[1;32m   1019\u001b[0m             \u001b[0melapsed_time\u001b[0m \u001b[0;34m=\u001b[0m \u001b[0mtime\u001b[0m\u001b[0;34m.\u001b[0m\u001b[0mtime\u001b[0m\u001b[0;34m(\u001b[0m\u001b[0;34m)\u001b[0m \u001b[0;34m-\u001b[0m \u001b[0mself\u001b[0m\u001b[0;34m.\u001b[0m\u001b[0m_start_time\u001b[0m\u001b[0;34m\u001b[0m\u001b[0;34m\u001b[0m\u001b[0m\n",
            "\u001b[0;32m/usr/local/lib/python3.6/dist-packages/joblib/parallel.py\u001b[0m in \u001b[0;36mretrieve\u001b[0;34m(self)\u001b[0m\n\u001b[1;32m    907\u001b[0m             \u001b[0;32mtry\u001b[0m\u001b[0;34m:\u001b[0m\u001b[0;34m\u001b[0m\u001b[0;34m\u001b[0m\u001b[0m\n\u001b[1;32m    908\u001b[0m                 \u001b[0;32mif\u001b[0m \u001b[0mgetattr\u001b[0m\u001b[0;34m(\u001b[0m\u001b[0mself\u001b[0m\u001b[0;34m.\u001b[0m\u001b[0m_backend\u001b[0m\u001b[0;34m,\u001b[0m \u001b[0;34m'supports_timeout'\u001b[0m\u001b[0;34m,\u001b[0m \u001b[0;32mFalse\u001b[0m\u001b[0;34m)\u001b[0m\u001b[0;34m:\u001b[0m\u001b[0;34m\u001b[0m\u001b[0;34m\u001b[0m\u001b[0m\n\u001b[0;32m--> 909\u001b[0;31m                     \u001b[0mself\u001b[0m\u001b[0;34m.\u001b[0m\u001b[0m_output\u001b[0m\u001b[0;34m.\u001b[0m\u001b[0mextend\u001b[0m\u001b[0;34m(\u001b[0m\u001b[0mjob\u001b[0m\u001b[0;34m.\u001b[0m\u001b[0mget\u001b[0m\u001b[0;34m(\u001b[0m\u001b[0mtimeout\u001b[0m\u001b[0;34m=\u001b[0m\u001b[0mself\u001b[0m\u001b[0;34m.\u001b[0m\u001b[0mtimeout\u001b[0m\u001b[0;34m)\u001b[0m\u001b[0;34m)\u001b[0m\u001b[0;34m\u001b[0m\u001b[0;34m\u001b[0m\u001b[0m\n\u001b[0m\u001b[1;32m    910\u001b[0m                 \u001b[0;32melse\u001b[0m\u001b[0;34m:\u001b[0m\u001b[0;34m\u001b[0m\u001b[0;34m\u001b[0m\u001b[0m\n\u001b[1;32m    911\u001b[0m                     \u001b[0mself\u001b[0m\u001b[0;34m.\u001b[0m\u001b[0m_output\u001b[0m\u001b[0;34m.\u001b[0m\u001b[0mextend\u001b[0m\u001b[0;34m(\u001b[0m\u001b[0mjob\u001b[0m\u001b[0;34m.\u001b[0m\u001b[0mget\u001b[0m\u001b[0;34m(\u001b[0m\u001b[0;34m)\u001b[0m\u001b[0;34m)\u001b[0m\u001b[0;34m\u001b[0m\u001b[0;34m\u001b[0m\u001b[0m\n",
            "\u001b[0;32m/usr/local/lib/python3.6/dist-packages/joblib/_parallel_backends.py\u001b[0m in \u001b[0;36mwrap_future_result\u001b[0;34m(future, timeout)\u001b[0m\n\u001b[1;32m    560\u001b[0m         AsyncResults.get from multiprocessing.\"\"\"\n\u001b[1;32m    561\u001b[0m         \u001b[0;32mtry\u001b[0m\u001b[0;34m:\u001b[0m\u001b[0;34m\u001b[0m\u001b[0;34m\u001b[0m\u001b[0m\n\u001b[0;32m--> 562\u001b[0;31m             \u001b[0;32mreturn\u001b[0m \u001b[0mfuture\u001b[0m\u001b[0;34m.\u001b[0m\u001b[0mresult\u001b[0m\u001b[0;34m(\u001b[0m\u001b[0mtimeout\u001b[0m\u001b[0;34m=\u001b[0m\u001b[0mtimeout\u001b[0m\u001b[0;34m)\u001b[0m\u001b[0;34m\u001b[0m\u001b[0;34m\u001b[0m\u001b[0m\n\u001b[0m\u001b[1;32m    563\u001b[0m         \u001b[0;32mexcept\u001b[0m \u001b[0mLokyTimeoutError\u001b[0m\u001b[0;34m:\u001b[0m\u001b[0;34m\u001b[0m\u001b[0;34m\u001b[0m\u001b[0m\n\u001b[1;32m    564\u001b[0m             \u001b[0;32mraise\u001b[0m \u001b[0mTimeoutError\u001b[0m\u001b[0;34m(\u001b[0m\u001b[0;34m)\u001b[0m\u001b[0;34m\u001b[0m\u001b[0;34m\u001b[0m\u001b[0m\n",
            "\u001b[0;32m/usr/lib/python3.6/concurrent/futures/_base.py\u001b[0m in \u001b[0;36mresult\u001b[0;34m(self, timeout)\u001b[0m\n\u001b[1;32m    425\u001b[0m                 \u001b[0;32mreturn\u001b[0m \u001b[0mself\u001b[0m\u001b[0;34m.\u001b[0m\u001b[0m__get_result\u001b[0m\u001b[0;34m(\u001b[0m\u001b[0;34m)\u001b[0m\u001b[0;34m\u001b[0m\u001b[0;34m\u001b[0m\u001b[0m\n\u001b[1;32m    426\u001b[0m \u001b[0;34m\u001b[0m\u001b[0m\n\u001b[0;32m--> 427\u001b[0;31m             \u001b[0mself\u001b[0m\u001b[0;34m.\u001b[0m\u001b[0m_condition\u001b[0m\u001b[0;34m.\u001b[0m\u001b[0mwait\u001b[0m\u001b[0;34m(\u001b[0m\u001b[0mtimeout\u001b[0m\u001b[0;34m)\u001b[0m\u001b[0;34m\u001b[0m\u001b[0;34m\u001b[0m\u001b[0m\n\u001b[0m\u001b[1;32m    428\u001b[0m \u001b[0;34m\u001b[0m\u001b[0m\n\u001b[1;32m    429\u001b[0m             \u001b[0;32mif\u001b[0m \u001b[0mself\u001b[0m\u001b[0;34m.\u001b[0m\u001b[0m_state\u001b[0m \u001b[0;32min\u001b[0m \u001b[0;34m[\u001b[0m\u001b[0mCANCELLED\u001b[0m\u001b[0;34m,\u001b[0m \u001b[0mCANCELLED_AND_NOTIFIED\u001b[0m\u001b[0;34m]\u001b[0m\u001b[0;34m:\u001b[0m\u001b[0;34m\u001b[0m\u001b[0;34m\u001b[0m\u001b[0m\n",
            "\u001b[0;32m/usr/lib/python3.6/threading.py\u001b[0m in \u001b[0;36mwait\u001b[0;34m(self, timeout)\u001b[0m\n\u001b[1;32m    293\u001b[0m         \u001b[0;32mtry\u001b[0m\u001b[0;34m:\u001b[0m    \u001b[0;31m# restore state no matter what (e.g., KeyboardInterrupt)\u001b[0m\u001b[0;34m\u001b[0m\u001b[0;34m\u001b[0m\u001b[0m\n\u001b[1;32m    294\u001b[0m             \u001b[0;32mif\u001b[0m \u001b[0mtimeout\u001b[0m \u001b[0;32mis\u001b[0m \u001b[0;32mNone\u001b[0m\u001b[0;34m:\u001b[0m\u001b[0;34m\u001b[0m\u001b[0;34m\u001b[0m\u001b[0m\n\u001b[0;32m--> 295\u001b[0;31m                 \u001b[0mwaiter\u001b[0m\u001b[0;34m.\u001b[0m\u001b[0macquire\u001b[0m\u001b[0;34m(\u001b[0m\u001b[0;34m)\u001b[0m\u001b[0;34m\u001b[0m\u001b[0;34m\u001b[0m\u001b[0m\n\u001b[0m\u001b[1;32m    296\u001b[0m                 \u001b[0mgotit\u001b[0m \u001b[0;34m=\u001b[0m \u001b[0;32mTrue\u001b[0m\u001b[0;34m\u001b[0m\u001b[0;34m\u001b[0m\u001b[0m\n\u001b[1;32m    297\u001b[0m             \u001b[0;32melse\u001b[0m\u001b[0;34m:\u001b[0m\u001b[0;34m\u001b[0m\u001b[0;34m\u001b[0m\u001b[0m\n",
            "\u001b[0;31mKeyboardInterrupt\u001b[0m: "
          ]
        }
      ]
    },
    {
      "cell_type": "code",
      "metadata": {
        "id": "wd1rEEBk685E",
        "colab_type": "code",
        "colab": {}
      },
      "source": [
        "#Best parameters\n",
        "rndf_clf = RandomForestClassifier(n_estimators = 1, max_depth = 7, class_weight='balanced')\n",
        "rndf_clf.fit(X_train_sm, y_train_sm)\n",
        "\n",
        "#Test Results \n",
        "print_score(rndf_clf, X_test, y_test)\n",
        "print(\"\\n\")\n",
        "\n",
        "#AUC\n",
        "calculate_auc(rndf_clf, X_test, y_test)"
      ],
      "execution_count": 0,
      "outputs": []
    },
    {
      "cell_type": "markdown",
      "metadata": {
        "id": "XYaRnAlb1-b1",
        "colab_type": "text"
      },
      "source": [
        "### Naive Bayes"
      ]
    },
    {
      "cell_type": "code",
      "metadata": {
        "id": "abOUh96f3fWL",
        "colab_type": "code",
        "colab": {
          "base_uri": "https://localhost:8080/",
          "height": 748
        },
        "outputId": "6127a277-9384-4378-85b8-86ef20e0933e"
      },
      "source": [
        "#NB Classifier scores using all variables\n",
        "from sklearn.naive_bayes import MultinomialNB\n",
        "\n",
        "K = np.linspace(0,1,10)\n",
        "\n",
        "nb_scores = []\n",
        "for k in K:\n",
        "    nb_clf = MultinomialNB(alpha = k)\n",
        "    nb_scores.append(round(np.mean(cross_val_score(nb_clf,X_train_sm,y_train_sm,cv=10)),2))\n",
        "\n",
        "plt.figure(figsize=(10,5))\n",
        "plt.plot([k for k in range(1,len(K)+1)], nb_scores, color = 'red')\n",
        "for i in range(1,len(K)+1):\n",
        "    plt.text(i, nb_scores[i-1], (K[i-1], nb_scores[i-1]))\n",
        "plt.xticks([i for i in range(1,len(K)+1)])\n",
        "plt.xlabel('Alpha value')\n",
        "plt.ylabel('Scores')\n",
        "plt.title('Naive Bayes Classifier scores for different alpha values')"
      ],
      "execution_count": 104,
      "outputs": [
        {
          "output_type": "stream",
          "text": [
            "/usr/local/lib/python3.6/dist-packages/sklearn/naive_bayes.py:507: UserWarning: alpha too small will result in numeric errors, setting alpha = 1.0e-10\n",
            "  'setting alpha = %.1e' % _ALPHA_MIN)\n",
            "/usr/local/lib/python3.6/dist-packages/sklearn/naive_bayes.py:507: UserWarning: alpha too small will result in numeric errors, setting alpha = 1.0e-10\n",
            "  'setting alpha = %.1e' % _ALPHA_MIN)\n",
            "/usr/local/lib/python3.6/dist-packages/sklearn/naive_bayes.py:507: UserWarning: alpha too small will result in numeric errors, setting alpha = 1.0e-10\n",
            "  'setting alpha = %.1e' % _ALPHA_MIN)\n",
            "/usr/local/lib/python3.6/dist-packages/sklearn/naive_bayes.py:507: UserWarning: alpha too small will result in numeric errors, setting alpha = 1.0e-10\n",
            "  'setting alpha = %.1e' % _ALPHA_MIN)\n",
            "/usr/local/lib/python3.6/dist-packages/sklearn/naive_bayes.py:507: UserWarning: alpha too small will result in numeric errors, setting alpha = 1.0e-10\n",
            "  'setting alpha = %.1e' % _ALPHA_MIN)\n",
            "/usr/local/lib/python3.6/dist-packages/sklearn/naive_bayes.py:507: UserWarning: alpha too small will result in numeric errors, setting alpha = 1.0e-10\n",
            "  'setting alpha = %.1e' % _ALPHA_MIN)\n",
            "/usr/local/lib/python3.6/dist-packages/sklearn/naive_bayes.py:507: UserWarning: alpha too small will result in numeric errors, setting alpha = 1.0e-10\n",
            "  'setting alpha = %.1e' % _ALPHA_MIN)\n",
            "/usr/local/lib/python3.6/dist-packages/sklearn/naive_bayes.py:507: UserWarning: alpha too small will result in numeric errors, setting alpha = 1.0e-10\n",
            "  'setting alpha = %.1e' % _ALPHA_MIN)\n",
            "/usr/local/lib/python3.6/dist-packages/sklearn/naive_bayes.py:507: UserWarning: alpha too small will result in numeric errors, setting alpha = 1.0e-10\n",
            "  'setting alpha = %.1e' % _ALPHA_MIN)\n",
            "/usr/local/lib/python3.6/dist-packages/sklearn/naive_bayes.py:507: UserWarning: alpha too small will result in numeric errors, setting alpha = 1.0e-10\n",
            "  'setting alpha = %.1e' % _ALPHA_MIN)\n"
          ],
          "name": "stderr"
        },
        {
          "output_type": "execute_result",
          "data": {
            "text/plain": [
              "Text(0.5, 1.0, 'Naive Bayes Classifier scores for different alpha values')"
            ]
          },
          "metadata": {
            "tags": []
          },
          "execution_count": 104
        },
        {
          "output_type": "display_data",
          "data": {
            "image/png": "[encoded data removed]",
            "text/plain": [
              "<Figure size 720x360 with 1 Axes>"
            ]
          },
          "metadata": {
            "tags": []
          }
        }
      ]
    },
    {
      "cell_type": "code",
      "metadata": {
        "id": "NHaUfQoc7Azx",
        "colab_type": "code",
        "colab": {
          "base_uri": "https://localhost:8080/",
          "height": 926
        },
        "outputId": "67ec5cb1-8c8e-4f28-d790-61112e38594d"
      },
      "source": [
        "#Best parameters\n",
        "nb_clf = MultinomialNB(alpha = 2)\n",
        "nb_clf.fit(X_train_sm, y_train_sm)\n",
        "\n",
        "#Test Results \n",
        "print_score(nb_clf, X_test, y_test)\n",
        "print(\"\\n\")\n",
        "\n",
        "#AUC\n",
        "calculate_auc(nb_clf, X_test, y_test)"
      ],
      "execution_count": 105,
      "outputs": [
        {
          "output_type": "stream",
          "text": [
            "Test results:\n",
            "\n",
            "Accuracy Score: 0.9122\n",
            "\n",
            "Balanced Accuracy Score: 0.7153\n",
            "\n",
            "Classification Report:\n",
            "                       precision    recall  f1-score   support\n",
            "\n",
            "1 Mixed local stock 2       1.00      1.00      1.00       144\n",
            "  Carniolan honey bee       1.00      0.29      0.45       161\n",
            "    Italian honey bee       1.00      1.00      1.00       900\n",
            "    Russian honey bee       0.55      1.00      0.71       153\n",
            "VSH Italian honey bee       1.00      1.00      1.00        55\n",
            "    Western honey bee       0.00      0.00      0.00        11\n",
            "\n",
            "             accuracy                           0.91      1424\n",
            "            macro avg       0.76      0.72      0.69      1424\n",
            "         weighted avg       0.94      0.91      0.90      1424\n",
            "\n",
            "\n",
            "Confusion Matrix:\n",
            "[[144   0   0   0   0   0]\n",
            " [  0  47   0 114   0   0]\n",
            " [  0   0 900   0   0   0]\n",
            " [  0   0   0 153   0   0]\n",
            " [  0   0   0   0  55   0]\n",
            " [  0   0   0  11   0   0]]\n",
            "\n",
            "Specificity:\n",
            "\n",
            "    1 Mixed local stock 2  1.0\n",
            "      Carniolan honey bee  1.0\n",
            "        Italian honey bee  1.0\n",
            "        Russian honey bee  0.9016522423288749\n",
            "    VSH Italian honey bee  1.0\n",
            "        Western honey bee  1.0\n",
            "\n",
            "macro avg: 0.9836087070548124\n",
            "None\n",
            "\n",
            "\n",
            "One-vs-One ROC AUC scores:\n",
            "0.928021 (macro),\n",
            "0.968396 (weighted by prevalence)\n",
            "One-vs-Rest ROC AUC scores:\n",
            "0.972059 (macro),\n",
            "0.990375 (weighted by prevalence)\n"
          ],
          "name": "stdout"
        },
        {
          "output_type": "stream",
          "text": [
            "/usr/local/lib/python3.6/dist-packages/sklearn/metrics/_classification.py:1272: UndefinedMetricWarning: Precision and F-score are ill-defined and being set to 0.0 in labels with no predicted samples. Use `zero_division` parameter to control this behavior.\n",
            "  _warn_prf(average, modifier, msg_start, len(result))\n"
          ],
          "name": "stderr"
        }
      ]
    },
    {
      "cell_type": "markdown",
      "metadata": {
        "id": "iifWRSMQ2BV2",
        "colab_type": "text"
      },
      "source": [
        "### Logistic Regression"
      ]
    },
    {
      "cell_type": "code",
      "metadata": {
        "id": "cjIgmk_j3f3r",
        "colab_type": "code",
        "colab": {
          "base_uri": "https://localhost:8080/",
          "height": 372
        },
        "outputId": "8db77a73-7571-4e75-a6ba-3378d7b27a37"
      },
      "source": [
        "#Logistic Regression scores using all variables\n",
        "\n",
        "C_param_range = [0.001,0.01,0.1,1,10,100]\n",
        "log_scores = []\n",
        "for i in C_param_range:\n",
        "    log_reg = LogisticRegression(C = i, max_iter=1500)\n",
        "    log_scores.append(round(np.mean(cross_val_score(log_reg,X_train_sm,y_train_sm,cv=10)),2))\n",
        "\n",
        "plt.figure(figsize=(10,5))\n",
        "plt.plot([C_param_range.index(i) for i in C_param_range], log_scores, color = 'red')\n",
        "for i in C_param_range:\n",
        "    plt.text(C_param_range.index(i), log_scores[C_param_range.index(i)], (i, log_scores[C_param_range.index(i)]))\n",
        "plt.xticks([C_param_range.index(i) for i in C_param_range])\n",
        "plt.xlabel('Index of regularization value')\n",
        "plt.ylabel('Scores')\n",
        "plt.title('Logistic Regression for different regularization values')"
      ],
      "execution_count": 106,
      "outputs": [
        {
          "output_type": "execute_result",
          "data": {
            "text/plain": [
              "Text(0.5, 1.0, 'Logistic Regression for different regularization values')"
            ]
          },
          "metadata": {
            "tags": []
          },
          "execution_count": 106
        },
        {
          "output_type": "display_data",
          "data": {
            "image/png": "[encoded data removed]",
            "text/plain": [
              "<Figure size 720x360 with 1 Axes>"
            ]
          },
          "metadata": {
            "tags": []
          }
        }
      ]
    },
    {
      "cell_type": "code",
      "metadata": {
        "id": "DSeGrDy37FJm",
        "colab_type": "code",
        "colab": {
          "base_uri": "https://localhost:8080/",
          "height": 926
        },
        "outputId": "a89b9e95-b67d-41be-c974-ceddb2dae53b"
      },
      "source": [
        "#Best parameters\n",
        "log_reg_clf = LogisticRegression(C=1, max_iter=1500)\n",
        "log_reg_clf.fit(X_train_sm, y_train_sm)\n",
        "\n",
        "#Test Results \n",
        "print_score(log_reg_clf, X_test, y_test)\n",
        "print(\"\\n\")\n",
        "\n",
        "#AUC\n",
        "calculate_auc(log_reg_clf, X_test, y_test)"
      ],
      "execution_count": 107,
      "outputs": [
        {
          "output_type": "stream",
          "text": [
            "Test results:\n",
            "\n",
            "Accuracy Score: 0.9122\n",
            "\n",
            "Balanced Accuracy Score: 0.7153\n",
            "\n",
            "Classification Report:\n",
            "                       precision    recall  f1-score   support\n",
            "\n",
            "1 Mixed local stock 2       1.00      1.00      1.00       144\n",
            "  Carniolan honey bee       1.00      0.29      0.45       161\n",
            "    Italian honey bee       1.00      1.00      1.00       900\n",
            "    Russian honey bee       0.55      1.00      0.71       153\n",
            "VSH Italian honey bee       1.00      1.00      1.00        55\n",
            "    Western honey bee       0.00      0.00      0.00        11\n",
            "\n",
            "             accuracy                           0.91      1424\n",
            "            macro avg       0.76      0.72      0.69      1424\n",
            "         weighted avg       0.94      0.91      0.90      1424\n",
            "\n",
            "\n",
            "Confusion Matrix:\n",
            "[[144   0   0   0   0   0]\n",
            " [  0  47   0 114   0   0]\n",
            " [  0   0 900   0   0   0]\n",
            " [  0   0   0 153   0   0]\n",
            " [  0   0   0   0  55   0]\n",
            " [  0   0   0  11   0   0]]\n",
            "\n",
            "Specificity:\n",
            "\n",
            "    1 Mixed local stock 2  1.0\n",
            "      Carniolan honey bee  1.0\n",
            "        Italian honey bee  1.0\n",
            "        Russian honey bee  0.9016522423288749\n",
            "    VSH Italian honey bee  1.0\n",
            "        Western honey bee  1.0\n",
            "\n",
            "macro avg: 0.9836087070548124\n",
            "None\n",
            "\n",
            "\n",
            "One-vs-One ROC AUC scores:\n",
            "0.928021 (macro),\n",
            "0.968396 (weighted by prevalence)\n",
            "One-vs-Rest ROC AUC scores:\n",
            "0.972059 (macro),\n",
            "0.990375 (weighted by prevalence)\n"
          ],
          "name": "stdout"
        },
        {
          "output_type": "stream",
          "text": [
            "/usr/local/lib/python3.6/dist-packages/sklearn/metrics/_classification.py:1272: UndefinedMetricWarning: Precision and F-score are ill-defined and being set to 0.0 in labels with no predicted samples. Use `zero_division` parameter to control this behavior.\n",
            "  _warn_prf(average, modifier, msg_start, len(result))\n"
          ],
          "name": "stderr"
        }
      ]
    },
    {
      "cell_type": "markdown",
      "metadata": {
        "id": "i3RwTCp9wIaZ",
        "colab_type": "text"
      },
      "source": [
        "## SMOTE II - balanced"
      ]
    },
    {
      "cell_type": "code",
      "metadata": {
        "id": "cfSHKBnowLMR",
        "colab_type": "code",
        "outputId": "f7d85d2c-98da-4963-b5e7-be9fe2649b17",
        "colab": {
          "base_uri": "https://localhost:8080/",
          "height": 215
        }
      },
      "source": [
        "X_train, X_test, y_train, y_test = train_test_split(X, y, test_size = 0.30, random_state=47)\n",
        "\n",
        "smote=SMOTE(sampling_strategy = 'not majority')\n",
        "X_train_sm2, y_train_sm2 = smote.fit_resample(X_train,y_train)\n"
      ],
      "execution_count": 86,
      "outputs": [
        {
          "output_type": "stream",
          "text": [
            "/usr/local/lib/python3.6/dist-packages/sklearn/utils/deprecation.py:87: FutureWarning: Function safe_indexing is deprecated; safe_indexing is deprecated in version 0.22 and will be removed in version 0.24.\n",
            "  warnings.warn(msg, category=FutureWarning)\n",
            "/usr/local/lib/python3.6/dist-packages/sklearn/utils/deprecation.py:87: FutureWarning: Function safe_indexing is deprecated; safe_indexing is deprecated in version 0.22 and will be removed in version 0.24.\n",
            "  warnings.warn(msg, category=FutureWarning)\n",
            "/usr/local/lib/python3.6/dist-packages/sklearn/utils/deprecation.py:87: FutureWarning: Function safe_indexing is deprecated; safe_indexing is deprecated in version 0.22 and will be removed in version 0.24.\n",
            "  warnings.warn(msg, category=FutureWarning)\n",
            "/usr/local/lib/python3.6/dist-packages/sklearn/utils/deprecation.py:87: FutureWarning: Function safe_indexing is deprecated; safe_indexing is deprecated in version 0.22 and will be removed in version 0.24.\n",
            "  warnings.warn(msg, category=FutureWarning)\n",
            "/usr/local/lib/python3.6/dist-packages/sklearn/utils/deprecation.py:87: FutureWarning: Function safe_indexing is deprecated; safe_indexing is deprecated in version 0.22 and will be removed in version 0.24.\n",
            "  warnings.warn(msg, category=FutureWarning)\n"
          ],
          "name": "stderr"
        }
      ]
    },
    {
      "cell_type": "markdown",
      "metadata": {
        "id": "zPQnCMuM6nER",
        "colab_type": "text"
      },
      "source": [
        "### KNN"
      ]
    },
    {
      "cell_type": "code",
      "metadata": {
        "id": "6vfNIe8Af-ub",
        "colab_type": "code",
        "outputId": "7f215157-533c-4ab3-9c03-581c7004bb55",
        "colab": {
          "base_uri": "https://localhost:8080/",
          "height": 372
        }
      },
      "source": [
        "#KNN Classifier scores using all variables\n",
        "\n",
        "knn_scores = []\n",
        "K_list=range(1,30,2)\n",
        "for k in K_list:\n",
        "    knn_clf = KNeighborsClassifier(n_neighbors = k,metric='jaccard')\n",
        "    knn_scores.append(round(np.mean(cross_val_score(knn_clf,X_train_sm2,y_train_sm2,scoring='accuracy',cv=10)),2))\n",
        "\n",
        "plt.figure(figsize=(10,5))\n",
        "plt.plot([k for k in K_list], knn_scores, color = 'red')\n",
        "for i in range(len(K_list)):\n",
        "    plt.text(K_list[i], knn_scores[i], (K_list[i], knn_scores[i]),fontsize=9)\n",
        "plt.xticks([i for i in K_list])\n",
        "plt.xlabel('Number of Neighbors (K)')\n",
        "plt.ylabel('Scores')\n",
        "plt.title('K Neighbors Classifier scores for different K values')"
      ],
      "execution_count": 77,
      "outputs": [
        {
          "output_type": "execute_result",
          "data": {
            "text/plain": [
              "Text(0.5, 1.0, 'K Neighbors Classifier scores for different K values')"
            ]
          },
          "metadata": {
            "tags": []
          },
          "execution_count": 77
        },
        {
          "output_type": "display_data",
          "data": {
            "image/png": "[encoded data removed]",
            "text/plain": [
              "<Figure size 720x360 with 1 Axes>"
            ]
          },
          "metadata": {
            "tags": []
          }
        }
      ]
    },
    {
      "cell_type": "code",
      "metadata": {
        "id": "kGiUmtWfgFRa",
        "colab_type": "code",
        "outputId": "85bae869-c151-407b-b44b-e1dbfa3f1188",
        "colab": {
          "base_uri": "https://localhost:8080/",
          "height": 926
        }
      },
      "source": [
        "#Best parameters\n",
        "knn_clf = KNeighborsClassifier(n_neighbors=1,metric='jaccard')\n",
        "knn_clf.fit(X_train_sm2, y_train_sm2)\n",
        "\n",
        "#Test Results \n",
        "print_score(knn_clf, X_test, y_test)\n",
        "print(\"\\n\")\n",
        "\n",
        "#AUC\n",
        "calculate_auc(knn_clf, X_test, y_test)"
      ],
      "execution_count": 78,
      "outputs": [
        {
          "output_type": "stream",
          "text": [
            "Test results:\n",
            "\n",
            "Accuracy Score: 0.9122\n",
            "\n",
            "Balanced Accuracy Score: 0.7153\n",
            "\n"
          ],
          "name": "stdout"
        },
        {
          "output_type": "stream",
          "text": [
            "/usr/local/lib/python3.6/dist-packages/sklearn/metrics/_classification.py:1272: UndefinedMetricWarning: Precision and F-score are ill-defined and being set to 0.0 in labels with no predicted samples. Use `zero_division` parameter to control this behavior.\n",
            "  _warn_prf(average, modifier, msg_start, len(result))\n"
          ],
          "name": "stderr"
        },
        {
          "output_type": "stream",
          "text": [
            "Classification Report:\n",
            "                       precision    recall  f1-score   support\n",
            "\n",
            "1 Mixed local stock 2       1.00      1.00      1.00       144\n",
            "  Carniolan honey bee       1.00      0.29      0.45       161\n",
            "    Italian honey bee       1.00      1.00      1.00       900\n",
            "    Russian honey bee       0.55      1.00      0.71       153\n",
            "VSH Italian honey bee       1.00      1.00      1.00        55\n",
            "    Western honey bee       0.00      0.00      0.00        11\n",
            "\n",
            "             accuracy                           0.91      1424\n",
            "            macro avg       0.76      0.72      0.69      1424\n",
            "         weighted avg       0.94      0.91      0.90      1424\n",
            "\n",
            "\n",
            "Confusion Matrix:\n",
            "[[144   0   0   0   0   0]\n",
            " [  0  47   0 114   0   0]\n",
            " [  0   0 900   0   0   0]\n",
            " [  0   0   0 153   0   0]\n",
            " [  0   0   0   0  55   0]\n",
            " [  0   0   0  11   0   0]]\n",
            "\n",
            "Specificity:\n",
            "\n",
            "    1 Mixed local stock 2  1.0\n",
            "      Carniolan honey bee  1.0\n",
            "        Italian honey bee  1.0\n",
            "        Russian honey bee  0.9016522423288749\n",
            "    VSH Italian honey bee  1.0\n",
            "        Western honey bee  1.0\n",
            "\n",
            "macro avg: 0.9836087070548124\n",
            "None\n",
            "\n",
            "\n",
            "One-vs-One ROC AUC scores:\n",
            "0.829193 (macro),\n",
            "0.883475 (weighted by prevalence)\n",
            "One-vs-Rest ROC AUC scores:\n",
            "0.849465 (macro),\n",
            "0.950826 (weighted by prevalence)\n"
          ],
          "name": "stdout"
        }
      ]
    },
    {
      "cell_type": "markdown",
      "metadata": {
        "id": "B9Mh9eZM5R2N",
        "colab_type": "text"
      },
      "source": [
        "### SVM"
      ]
    },
    {
      "cell_type": "code",
      "metadata": {
        "id": "SXk1LMC75TiK",
        "colab_type": "code",
        "colab": {
          "base_uri": "https://localhost:8080/",
          "height": 52
        },
        "outputId": "20073c8e-be2b-4e4d-c96f-f7645831f709"
      },
      "source": [
        "parameters = {'C': [0.001,0.01,0.1,1,10,100], 'kernel' : ['linear']}\n",
        "\n",
        "svm_clf = svm.SVC()\n",
        "svm_cv = GridSearchCV(estimator=svm_clf, param_grid=parameters, scoring='accuracy', cv=5, n_jobs=-1)\n",
        "svm_cv.fit(X_train_sm2, y_train_sm2)\n",
        "print('Best parameters set found:',svm_cv.best_params_)\n",
        "print('Score with best parameters:',svm_cv.best_score_)\n",
        "\n"
      ],
      "execution_count": 84,
      "outputs": [
        {
          "output_type": "stream",
          "text": [
            "Best parameters set found: {'C': 0.01, 'kernel': 'linear'}\n",
            "Score with best parameters: 0.7541112814669987\n"
          ],
          "name": "stdout"
        }
      ]
    },
    {
      "cell_type": "code",
      "metadata": {
        "id": "2XErEU-65UF9",
        "colab_type": "code",
        "colab": {
          "base_uri": "https://localhost:8080/",
          "height": 870
        },
        "outputId": "edb60019-bd2b-47dc-c3d7-6becf6422e18"
      },
      "source": [
        "#Best parameters\n",
        "svm_clf = svm.SVC(C=0.01, kernel='linear', probability=True)\n",
        "svm_clf.fit(X_train_sm2, y_train_sm2)\n",
        "\n",
        "#Test Results \n",
        "print_score(svm_clf, X_test, y_test)\n",
        "print(\"\\n\")\n",
        "\n",
        "#AUC\n",
        "calculate_auc(svm_clf, X_test, y_test)"
      ],
      "execution_count": 88,
      "outputs": [
        {
          "output_type": "stream",
          "text": [
            "Test results:\n",
            "\n",
            "Accuracy Score: 0.8287\n",
            "\n",
            "Balanced Accuracy Score: 0.7404\n",
            "\n",
            "Classification Report:\n",
            "                       precision    recall  f1-score   support\n",
            "\n",
            "1 Mixed local stock 2       1.00      1.00      1.00       144\n",
            "  Carniolan honey bee       1.00      0.29      0.45       161\n",
            "    Italian honey bee       1.00      1.00      1.00       900\n",
            "    Russian honey bee       1.00      0.15      0.26       153\n",
            "VSH Italian honey bee       1.00      1.00      1.00        55\n",
            "    Western honey bee       0.04      1.00      0.08        11\n",
            "\n",
            "             accuracy                           0.83      1424\n",
            "            macro avg       0.84      0.74      0.63      1424\n",
            "         weighted avg       0.99      0.83      0.85      1424\n",
            "\n",
            "\n",
            "Confusion Matrix:\n",
            "[[144   0   0   0   0   0]\n",
            " [  0  47   0   0   0 114]\n",
            " [  0   0 900   0   0   0]\n",
            " [  0   0   0  23   0 130]\n",
            " [  0   0   0   0  55   0]\n",
            " [  0   0   0   0   0  11]]\n",
            "\n",
            "Specificity:\n",
            "\n",
            "    1 Mixed local stock 2  1.0\n",
            "      Carniolan honey bee  1.0\n",
            "        Italian honey bee  1.0\n",
            "        Russian honey bee  1.0\n",
            "    VSH Italian honey bee  1.0\n",
            "        Western honey bee  0.8273177636234961\n",
            "\n",
            "macro avg: 0.9712196272705826\n",
            "None\n",
            "\n",
            "\n",
            "One-vs-One ROC AUC scores:\n",
            "0.928021 (macro),\n",
            "0.968396 (weighted by prevalence)\n",
            "One-vs-Rest ROC AUC scores:\n",
            "0.972059 (macro),\n",
            "0.990375 (weighted by prevalence)\n"
          ],
          "name": "stdout"
        }
      ]
    },
    {
      "cell_type": "markdown",
      "metadata": {
        "id": "g_9cce746rWM",
        "colab_type": "text"
      },
      "source": [
        "### Random Forest"
      ]
    },
    {
      "cell_type": "code",
      "metadata": {
        "id": "SDhoTgt0gVSP",
        "colab_type": "code",
        "outputId": "e4835b6f-ce55-4cba-9b65-daf38b48d212",
        "colab": {
          "base_uri": "https://localhost:8080/",
          "height": 52
        }
      },
      "source": [
        "#Random Forest Classifier\n",
        "\n",
        "n_est = [1, 2, 4, 8, 16, 32, 64, 100, 200]\n",
        "max_depths = np.linspace(1, 7, 7, endpoint=True)\n",
        "\n",
        "parameters = {'n_estimators': n_est, 'max_depth' : max_depths}\n",
        "\n",
        "rndf_clf = RandomForestClassifier(n_jobs=-1)\n",
        "rndf_cv = GridSearchCV(estimator=rndf_clf, param_grid=parameters, scoring='accuracy', cv=5, n_jobs=-1)\n",
        "rndf_cv.fit(X_train_sm2, y_train_sm2)\n",
        "print('Best parameters set found:',rndf_cv.best_params_)\n",
        "print('Score with best parameters:',rndf_cv.best_score_)"
      ],
      "execution_count": 91,
      "outputs": [
        {
          "output_type": "stream",
          "text": [
            "Best parameters set found: {'max_depth': 4.0, 'n_estimators': 32}\n",
            "Score with best parameters: 0.7547439425978804\n"
          ],
          "name": "stdout"
        }
      ]
    },
    {
      "cell_type": "code",
      "metadata": {
        "id": "3bs3Akj3SZNL",
        "colab_type": "code",
        "outputId": "58eca332-9791-4ec8-c3e5-127ae871388f",
        "colab": {
          "base_uri": "https://localhost:8080/",
          "height": 870
        }
      },
      "source": [
        "#Best parameters\n",
        "rndf_clf = RandomForestClassifier(n_estimators = 32, max_depth = 4,  class_weight = 'balanced')\n",
        "rndf_clf.fit(X_train_sm2, y_train_sm2)\n",
        "\n",
        "#Test Results \n",
        "print_score(rndf_clf, X_test, y_test)\n",
        "print(\"\\n\")\n",
        "\n",
        "#AUC\n",
        "calculate_auc(rndf_clf, X_test, y_test)"
      ],
      "execution_count": 92,
      "outputs": [
        {
          "output_type": "stream",
          "text": [
            "Test results:\n",
            "\n",
            "Accuracy Score: 0.8287\n",
            "\n",
            "Balanced Accuracy Score: 0.7404\n",
            "\n",
            "Classification Report:\n",
            "                       precision    recall  f1-score   support\n",
            "\n",
            "1 Mixed local stock 2       1.00      1.00      1.00       144\n",
            "  Carniolan honey bee       1.00      0.29      0.45       161\n",
            "    Italian honey bee       1.00      1.00      1.00       900\n",
            "    Russian honey bee       1.00      0.15      0.26       153\n",
            "VSH Italian honey bee       1.00      1.00      1.00        55\n",
            "    Western honey bee       0.04      1.00      0.08        11\n",
            "\n",
            "             accuracy                           0.83      1424\n",
            "            macro avg       0.84      0.74      0.63      1424\n",
            "         weighted avg       0.99      0.83      0.85      1424\n",
            "\n",
            "\n",
            "Confusion Matrix:\n",
            "[[144   0   0   0   0   0]\n",
            " [  0  47   0   0   0 114]\n",
            " [  0   0 900   0   0   0]\n",
            " [  0   0   0  23   0 130]\n",
            " [  0   0   0   0  55   0]\n",
            " [  0   0   0   0   0  11]]\n",
            "\n",
            "Specificity:\n",
            "\n",
            "    1 Mixed local stock 2  1.0\n",
            "      Carniolan honey bee  1.0\n",
            "        Italian honey bee  1.0\n",
            "        Russian honey bee  1.0\n",
            "    VSH Italian honey bee  1.0\n",
            "        Western honey bee  0.8273177636234961\n",
            "\n",
            "macro avg: 0.9712196272705826\n",
            "None\n",
            "\n",
            "\n",
            "One-vs-One ROC AUC scores:\n",
            "0.928021 (macro),\n",
            "0.968396 (weighted by prevalence)\n",
            "One-vs-Rest ROC AUC scores:\n",
            "0.972059 (macro),\n",
            "0.990375 (weighted by prevalence)\n"
          ],
          "name": "stdout"
        }
      ]
    },
    {
      "cell_type": "markdown",
      "metadata": {
        "id": "pRCxlAGx6_WG",
        "colab_type": "text"
      },
      "source": [
        "### Naive Bayes"
      ]
    },
    {
      "cell_type": "code",
      "metadata": {
        "id": "_ZjGRMrQ62sL",
        "colab_type": "code",
        "outputId": "63d6b991-e844-4ced-ddca-4deb03f89ccd",
        "colab": {
          "base_uri": "https://localhost:8080/",
          "height": 712
        }
      },
      "source": [
        "#NB Classifier scores using all variables\n",
        "K = np.linspace(0,1,10)\n",
        "\n",
        "nb_scores = []\n",
        "for k in K:\n",
        "    nb_clf = MultinomialNB(alpha = k)\n",
        "    nb_scores.append(round(np.mean(cross_val_score(nb_clf,X_train_sm2,y_train_sm2,cv=10)),2))\n",
        "\n",
        "plt.figure(figsize=(10,5))\n",
        "plt.plot([k for k in range(1,len(K)+1)], nb_scores, color = 'red')\n",
        "for i in range(1,len(K)+1):\n",
        "    plt.text(i, nb_scores[i-1], (K[i-1], nb_scores[i-1]))\n",
        "plt.xticks([i for i in range(1,len(K)+1)])\n",
        "plt.xlabel('Alpha value')\n",
        "plt.ylabel('Scores')\n",
        "plt.title('Naive Bayes Classifier scores for different alpha values')"
      ],
      "execution_count": 0,
      "outputs": [
        {
          "output_type": "stream",
          "text": [
            "/usr/local/lib/python3.6/dist-packages/sklearn/naive_bayes.py:507: UserWarning: alpha too small will result in numeric errors, setting alpha = 1.0e-10\n",
            "  'setting alpha = %.1e' % _ALPHA_MIN)\n",
            "/usr/local/lib/python3.6/dist-packages/sklearn/naive_bayes.py:507: UserWarning: alpha too small will result in numeric errors, setting alpha = 1.0e-10\n",
            "  'setting alpha = %.1e' % _ALPHA_MIN)\n",
            "/usr/local/lib/python3.6/dist-packages/sklearn/naive_bayes.py:507: UserWarning: alpha too small will result in numeric errors, setting alpha = 1.0e-10\n",
            "  'setting alpha = %.1e' % _ALPHA_MIN)\n",
            "/usr/local/lib/python3.6/dist-packages/sklearn/naive_bayes.py:507: UserWarning: alpha too small will result in numeric errors, setting alpha = 1.0e-10\n",
            "  'setting alpha = %.1e' % _ALPHA_MIN)\n",
            "/usr/local/lib/python3.6/dist-packages/sklearn/naive_bayes.py:507: UserWarning: alpha too small will result in numeric errors, setting alpha = 1.0e-10\n",
            "  'setting alpha = %.1e' % _ALPHA_MIN)\n",
            "/usr/local/lib/python3.6/dist-packages/sklearn/naive_bayes.py:507: UserWarning: alpha too small will result in numeric errors, setting alpha = 1.0e-10\n",
            "  'setting alpha = %.1e' % _ALPHA_MIN)\n",
            "/usr/local/lib/python3.6/dist-packages/sklearn/naive_bayes.py:507: UserWarning: alpha too small will result in numeric errors, setting alpha = 1.0e-10\n",
            "  'setting alpha = %.1e' % _ALPHA_MIN)\n",
            "/usr/local/lib/python3.6/dist-packages/sklearn/naive_bayes.py:507: UserWarning: alpha too small will result in numeric errors, setting alpha = 1.0e-10\n",
            "  'setting alpha = %.1e' % _ALPHA_MIN)\n",
            "/usr/local/lib/python3.6/dist-packages/sklearn/naive_bayes.py:507: UserWarning: alpha too small will result in numeric errors, setting alpha = 1.0e-10\n",
            "  'setting alpha = %.1e' % _ALPHA_MIN)\n",
            "/usr/local/lib/python3.6/dist-packages/sklearn/naive_bayes.py:507: UserWarning: alpha too small will result in numeric errors, setting alpha = 1.0e-10\n",
            "  'setting alpha = %.1e' % _ALPHA_MIN)\n"
          ],
          "name": "stderr"
        },
        {
          "output_type": "execute_result",
          "data": {
            "text/plain": [
              "Text(0.5, 1.0, 'Naive Bayes Classifier scores for different alpha values')"
            ]
          },
          "metadata": {
            "tags": []
          },
          "execution_count": 86
        },
        {
          "output_type": "display_data",
          "data": {
            "image/png": "[encoded data removed]",
            "text/plain": [
              "<Figure size 720x360 with 1 Axes>"
            ]
          },
          "metadata": {
            "tags": []
          }
        }
      ]
    },
    {
      "cell_type": "code",
      "metadata": {
        "id": "J25heFzd62S-",
        "colab_type": "code",
        "outputId": "c0a6352b-af0c-470d-ec85-d8c176c320b2",
        "colab": {
          "base_uri": "https://localhost:8080/",
          "height": 833
        }
      },
      "source": [
        "#Best parameters\n",
        "nb_clf = MultinomialNB(alpha = 2)\n",
        "nb_clf.fit(X_train_sm2, y_train_sm2)\n",
        "\n",
        "#Test Results \n",
        "print_score(nb_clf, X_test, y_test)\n",
        "print(\"\\n\")\n",
        "\n",
        "#AUC\n",
        "calculate_auc(nb_clf, X_test, y_test)"
      ],
      "execution_count": 0,
      "outputs": [
        {
          "output_type": "stream",
          "text": [
            "Test results:\n",
            "\n",
            "Accuracy Score: 0.8287\n",
            "\n",
            "Balanced Accuracy Score: 0.7404\n",
            "\n",
            "Classification Report:\n",
            "                       precision    recall  f1-score   support\n",
            "\n",
            "1 Mixed local stock 2       1.00      1.00      1.00       144\n",
            "  Carniolan honey bee       1.00      0.29      0.45       161\n",
            "    Italian honey bee       1.00      1.00      1.00       900\n",
            "    Russian honey bee       1.00      0.15      0.26       153\n",
            "VSH Italian honey bee       1.00      1.00      1.00        55\n",
            "    Western honey bee       0.04      1.00      0.08        11\n",
            "\n",
            "             accuracy                           0.83      1424\n",
            "            macro avg       0.84      0.74      0.63      1424\n",
            "         weighted avg       0.99      0.83      0.85      1424\n",
            "\n",
            "\n",
            "Confusion Matrix:\n",
            "[[144   0   0   0   0   0]\n",
            " [  0  47   0   0   0 114]\n",
            " [  0   0 900   0   0   0]\n",
            " [  0   0   0  23   0 130]\n",
            " [  0   0   0   0  55   0]\n",
            " [  0   0   0   0   0  11]]\n",
            "\n",
            "Specificity:\n",
            "\n",
            "    1 Mixed local stock 2  1.0\n",
            "      Carniolan honey bee  1.0\n",
            "        Italian honey bee  1.0\n",
            "        Russian honey bee  1.0\n",
            "    VSH Italian honey bee  1.0\n",
            "        Western honey bee  0.8273177636234961\n",
            "\n",
            "macro avg: 0.9712196272705826\n",
            "None\n",
            "\n",
            "\n",
            "One-vs-One ROC AUC scores:\n",
            "0.920280 (macro),\n",
            "0.963275 (weighted by prevalence)\n",
            "One-vs-Rest ROC AUC scores:\n",
            "0.967156 (macro),\n",
            "0.987215 (weighted by prevalence)\n"
          ],
          "name": "stdout"
        }
      ]
    },
    {
      "cell_type": "markdown",
      "metadata": {
        "id": "hSu5PXPf6xzc",
        "colab_type": "text"
      },
      "source": [
        "### Logistic Regression"
      ]
    },
    {
      "cell_type": "code",
      "metadata": {
        "id": "UYqbjtYPiG3c",
        "colab_type": "code",
        "outputId": "5a41cb60-899a-4a84-8200-cee118fd2371",
        "colab": {
          "base_uri": "https://localhost:8080/",
          "height": 372
        }
      },
      "source": [
        "#Logistic Regression scores using all variables\n",
        "\n",
        "C_param_range = [0.001,0.01,0.1,1,10,100]\n",
        "log_scores = []\n",
        "for i in C_param_range:\n",
        "    log_reg = LogisticRegression(C = i, max_iter=1500)\n",
        "    log_scores.append(round(np.mean(cross_val_score(log_reg,X_train_sm2,y_train_sm2,cv=10)),2))\n",
        "\n",
        "plt.figure(figsize=(10,5))\n",
        "plt.plot([C_param_range.index(i) for i in C_param_range], log_scores, color = 'red')\n",
        "for i in C_param_range:\n",
        "    plt.text(C_param_range.index(i), log_scores[C_param_range.index(i)], (i, log_scores[C_param_range.index(i)]))\n",
        "plt.xticks([C_param_range.index(i) for i in C_param_range])\n",
        "plt.xlabel('Index of regularization value')\n",
        "plt.ylabel('Scores')\n",
        "plt.title('Logistic Regression for different regularization values')"
      ],
      "execution_count": 93,
      "outputs": [
        {
          "output_type": "execute_result",
          "data": {
            "text/plain": [
              "Text(0.5, 1.0, 'Logistic Regression for different regularization values')"
            ]
          },
          "metadata": {
            "tags": []
          },
          "execution_count": 93
        },
        {
          "output_type": "display_data",
          "data": {
            "image/png": "[encoded data removed]",
            "text/plain": [
              "<Figure size 720x360 with 1 Axes>"
            ]
          },
          "metadata": {
            "tags": []
          }
        }
      ]
    },
    {
      "cell_type": "code",
      "metadata": {
        "id": "SrL93NNRplE-",
        "colab_type": "code",
        "outputId": "e95d3b45-90fc-4e3a-bd43-61694e84c80d",
        "colab": {
          "base_uri": "https://localhost:8080/",
          "height": 870
        }
      },
      "source": [
        "#Best parameters\n",
        "log_reg_clf = LogisticRegression(C=1, max_iter=1500)\n",
        "log_reg_clf.fit(X_train_sm2, y_train_sm2)\n",
        "\n",
        "#Test Results \n",
        "print_score(log_reg_clf, X_test, y_test)\n",
        "print(\"\\n\")\n",
        "\n",
        "#AUC\n",
        "calculate_auc(log_reg_clf, X_test, y_test)"
      ],
      "execution_count": 94,
      "outputs": [
        {
          "output_type": "stream",
          "text": [
            "Test results:\n",
            "\n",
            "Accuracy Score: 0.8287\n",
            "\n",
            "Balanced Accuracy Score: 0.7404\n",
            "\n",
            "Classification Report:\n",
            "                       precision    recall  f1-score   support\n",
            "\n",
            "1 Mixed local stock 2       1.00      1.00      1.00       144\n",
            "  Carniolan honey bee       1.00      0.29      0.45       161\n",
            "    Italian honey bee       1.00      1.00      1.00       900\n",
            "    Russian honey bee       1.00      0.15      0.26       153\n",
            "VSH Italian honey bee       1.00      1.00      1.00        55\n",
            "    Western honey bee       0.04      1.00      0.08        11\n",
            "\n",
            "             accuracy                           0.83      1424\n",
            "            macro avg       0.84      0.74      0.63      1424\n",
            "         weighted avg       0.99      0.83      0.85      1424\n",
            "\n",
            "\n",
            "Confusion Matrix:\n",
            "[[144   0   0   0   0   0]\n",
            " [  0  47   0   0   0 114]\n",
            " [  0   0 900   0   0   0]\n",
            " [  0   0   0  23   0 130]\n",
            " [  0   0   0   0  55   0]\n",
            " [  0   0   0   0   0  11]]\n",
            "\n",
            "Specificity:\n",
            "\n",
            "    1 Mixed local stock 2  1.0\n",
            "      Carniolan honey bee  1.0\n",
            "        Italian honey bee  1.0\n",
            "        Russian honey bee  1.0\n",
            "    VSH Italian honey bee  1.0\n",
            "        Western honey bee  0.8273177636234961\n",
            "\n",
            "macro avg: 0.9712196272705826\n",
            "None\n",
            "\n",
            "\n",
            "One-vs-One ROC AUC scores:\n",
            "0.928021 (macro),\n",
            "0.968396 (weighted by prevalence)\n",
            "One-vs-Rest ROC AUC scores:\n",
            "0.972059 (macro),\n",
            "0.990375 (weighted by prevalence)\n"
          ],
          "name": "stdout"
        }
      ]
    },
    {
      "cell_type": "markdown",
      "metadata": {
        "id": "zzh_amYwABEd",
        "colab_type": "text"
      },
      "source": [
        "## Feature Selection"
      ]
    },
    {
      "cell_type": "code",
      "metadata": {
        "id": "tCiQ-EI8ACtV",
        "colab_type": "code",
        "colab": {
          "base_uri": "https://localhost:8080/",
          "height": 195
        },
        "outputId": "a4d19ff7-4d1a-405d-bf31-dc85ca73d2d0"
      },
      "source": [
        "importances = mutual_info_classif(X,y)\n",
        "feature_names = list(X.columns)\n",
        "print(\"Important Features: \\n\")\n",
        "important_features=[]\n",
        "for i in range(len(importances)):\n",
        "  if importances[i]>=0.1:\n",
        "    important_features.append(feature_names[i])\n",
        "print(\"\\n\".join(important_features))"
      ],
      "execution_count": 123,
      "outputs": [
        {
          "output_type": "stream",
          "text": [
            "Important Features: \n",
            "\n",
            "address_Athens, GA, USA 30607\n",
            "address_Des Moines, IA, USA 50315\n",
            "address_New Orleans, LA, USA 70115\n",
            "address_Saratoga, CA, USA 95070\n",
            "health_Varroa, Small Hive Beetles\n",
            "health_healthy\n",
            "Day Time_Morning\n",
            "Day Time_Afternoon\n"
          ],
          "name": "stdout"
        }
      ]
    },
    {
      "cell_type": "code",
      "metadata": {
        "id": "SGGWVg3gADpA",
        "colab_type": "code",
        "colab": {}
      },
      "source": [
        "X_new = X[important_features]"
      ],
      "execution_count": 0,
      "outputs": []
    },
    {
      "cell_type": "code",
      "metadata": {
        "id": "QHmhDMr_Axgz",
        "colab_type": "code",
        "colab": {}
      },
      "source": [
        "X_train, X_test, y_train, y_test = train_test_split(X_new, y, test_size = 0.30, random_state=47)"
      ],
      "execution_count": 0,
      "outputs": []
    },
    {
      "cell_type": "code",
      "metadata": {
        "id": "AuwVuX1LCkaZ",
        "colab_type": "code",
        "colab": {
          "base_uri": "https://localhost:8080/",
          "height": 926
        },
        "outputId": "760300bd-bace-493f-deda-35cc671ff7af"
      },
      "source": [
        "#Best parameters\n",
        "nb_clf = MultinomialNB(alpha = 2)\n",
        "nb_clf.fit(X_train, y_train)\n",
        "\n",
        "#Test Results \n",
        "print_score(nb_clf, X_test, y_test)\n",
        "print(\"\\n\")\n",
        "\n",
        "#AUC\n",
        "calculate_auc(nb_clf, X_test, y_test)"
      ],
      "execution_count": 131,
      "outputs": [
        {
          "output_type": "stream",
          "text": [
            "Test results:\n",
            "\n",
            "Accuracy Score: 0.8813\n",
            "\n",
            "Balanced Accuracy Score: 0.6554\n",
            "\n",
            "Classification Report:\n",
            "                       precision    recall  f1-score   support\n",
            "\n",
            "1 Mixed local stock 2       0.95      1.00      0.97       144\n",
            "  Carniolan honey bee       1.00      0.27      0.43       161\n",
            "    Italian honey bee       0.96      0.99      0.98       900\n",
            "    Russian honey bee       0.50      0.85      0.63       153\n",
            "VSH Italian honey bee       1.00      0.82      0.90        55\n",
            "    Western honey bee       0.00      0.00      0.00        11\n",
            "\n",
            "             accuracy                           0.88      1424\n",
            "            macro avg       0.74      0.66      0.65      1424\n",
            "         weighted avg       0.91      0.88      0.87      1424\n",
            "\n",
            "\n",
            "Confusion Matrix:\n",
            "[[144   0   0   0   0   0]\n",
            " [  0  44   0 117   0   0]\n",
            " [  8   0 892   0   0   0]\n",
            " [  0   0  23 130   0   0]\n",
            " [  0   0  10   0  45   0]\n",
            " [  0   0   0  11   0   0]]\n",
            "\n",
            "Specificity:\n",
            "\n",
            "    1 Mixed local stock 2  0.99375\n",
            "      Carniolan honey bee  1.0\n",
            "        Italian honey bee  0.9370229007633588\n",
            "        Russian honey bee  0.8992918961447679\n",
            "    VSH Italian honey bee  1.0\n",
            "        Western honey bee  1.0\n",
            "\n",
            "macro avg: 0.9716774661513545\n",
            "None\n",
            "\n",
            "\n",
            "One-vs-One ROC AUC scores:\n",
            "0.916022 (macro),\n",
            "0.960788 (weighted by prevalence)\n",
            "One-vs-Rest ROC AUC scores:\n",
            "0.966075 (macro),\n",
            "0.986380 (weighted by prevalence)\n"
          ],
          "name": "stdout"
        },
        {
          "output_type": "stream",
          "text": [
            "/usr/local/lib/python3.6/dist-packages/sklearn/metrics/_classification.py:1272: UndefinedMetricWarning: Precision and F-score are ill-defined and being set to 0.0 in labels with no predicted samples. Use `zero_division` parameter to control this behavior.\n",
            "  _warn_prf(average, modifier, msg_start, len(result))\n"
          ],
          "name": "stderr"
        }
      ]
    },
    {
      "cell_type": "code",
      "metadata": {
        "id": "kbt-DgCKC4fJ",
        "colab_type": "code",
        "colab": {
          "base_uri": "https://localhost:8080/",
          "height": 926
        },
        "outputId": "83319378-56e4-4ba7-cdf7-c245b93e06a3"
      },
      "source": [
        ""
      ],
      "execution_count": 130,
      "outputs": [
        {
          "output_type": "stream",
          "text": [
            "Test results:\n",
            "\n",
            "Accuracy Score: 0.9052\n",
            "\n",
            "Balanced Accuracy Score: 0.6850\n",
            "\n",
            "Classification Report:\n",
            "                       precision    recall  f1-score   support\n",
            "\n",
            "1 Mixed local stock 2       1.00      1.00      1.00       144\n",
            "  Carniolan honey bee       1.00      0.29      0.45       161\n",
            "    Italian honey bee       0.99      1.00      0.99       900\n",
            "    Russian honey bee       0.55      1.00      0.71       153\n",
            "VSH Italian honey bee       1.00      0.82      0.90        55\n",
            "    Western honey bee       0.00      0.00      0.00        11\n",
            "\n",
            "             accuracy                           0.91      1424\n",
            "            macro avg       0.76      0.69      0.68      1424\n",
            "         weighted avg       0.94      0.91      0.89      1424\n",
            "\n",
            "\n",
            "Confusion Matrix:\n",
            "[[144   0   0   0   0   0]\n",
            " [  0  47   0 114   0   0]\n",
            " [  0   0 900   0   0   0]\n",
            " [  0   0   0 153   0   0]\n",
            " [  0   0  10   0  45   0]\n",
            " [  0   0   0  11   0   0]]\n",
            "\n",
            "Specificity:\n",
            "\n",
            "    1 Mixed local stock 2  1.0\n",
            "      Carniolan honey bee  1.0\n",
            "        Italian honey bee  0.9809160305343512\n",
            "        Russian honey bee  0.9016522423288749\n",
            "    VSH Italian honey bee  1.0\n",
            "        Western honey bee  1.0\n",
            "\n",
            "macro avg: 0.9804280454772044\n",
            "None\n",
            "\n",
            "\n",
            "One-vs-One ROC AUC scores:\n",
            "0.927152 (macro),\n",
            "0.966648 (weighted by prevalence)\n",
            "One-vs-Rest ROC AUC scores:\n",
            "0.970403 (macro),\n",
            "0.989180 (weighted by prevalence)\n"
          ],
          "name": "stdout"
        },
        {
          "output_type": "stream",
          "text": [
            "/usr/local/lib/python3.6/dist-packages/sklearn/metrics/_classification.py:1272: UndefinedMetricWarning: Precision and F-score are ill-defined and being set to 0.0 in labels with no predicted samples. Use `zero_division` parameter to control this behavior.\n",
            "  _warn_prf(average, modifier, msg_start, len(result))\n"
          ],
          "name": "stderr"
        }
      ]
    },
    {
      "cell_type": "code",
      "metadata": {
        "id": "oTZs4eW1DrRW",
        "colab_type": "code",
        "colab": {}
      },
      "source": [
        ""
      ],
      "execution_count": 0,
      "outputs": []
    }
  ]
}